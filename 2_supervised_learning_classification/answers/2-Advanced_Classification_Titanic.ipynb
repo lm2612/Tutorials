{
 "cells": [
  {
   "cell_type": "markdown",
   "id": "489c259f",
   "metadata": {},
   "source": [
    "## Titanic: Machine learning from disaster\n",
    "\n",
    "The sinking of the Titanic is one of the most infamous shipwrecks in history.\n",
    "\n",
    "On April 15, 1912, during her maiden voyage, the widely considered “unsinkable” RMS Titanic sank after colliding with an iceberg. Unfortunately, there weren’t enough lifeboats for everyone onboard, resulting in the death of 1502 out of 2224 passengers and crew.\n",
    "\n",
    "While there was some element of luck involved in surviving, it seems some groups of people were more likely to survive than others.\n",
    "\n",
    "In this tutorial, we will use passenger data to predict who survived the shipwreck and also use our predictive model to answer the question: \"what sorts of people were more likely to survive?\". We will focus on passenger age, gender and socio-economic class). You can read more about the Titanic dataset [here](https://www.kaggle.com/c/titanic/overview).\n",
    "\n",
    "This is the advanced version of the tutorial, where we will learn how to build our own classifiers.\n",
    "First, import packages and load the data."
   ]
  },
  {
   "cell_type": "code",
   "execution_count": 1,
   "id": "73896b3e",
   "metadata": {},
   "outputs": [],
   "source": [
    "import sys\n",
    "import numpy as np \n",
    "import pandas as pd\n",
    "import math\n",
    "import matplotlib.pyplot as plt\n",
    "\n",
    "np.random.seed(0)"
   ]
  },
  {
   "cell_type": "code",
   "execution_count": 2,
   "id": "bc34d89e",
   "metadata": {},
   "outputs": [
    {
     "name": "stdout",
     "output_type": "stream",
     "text": [
      "Notebook running locally. Using local filepath = ../titanic.csv\n"
     ]
    }
   ],
   "source": [
    "IN_COLAB = 'google.colab' in sys.modules\n",
    "if IN_COLAB:\n",
    "    filepath = \"https://raw.githubusercontent.com/lm2612/Tutorials/refs/heads/main/2_supervised_learning_classification/titanic.csv\"\n",
    "    print(f\"Notebook running in google colab. Using raw github filepath = {filepath}\")\n",
    "\n",
    "else:\n",
    "    filepath = \"../titanic.csv\"\n",
    "    print(f\"Notebook running locally. Using local filepath = {filepath}\")\n"
   ]
  },
  {
   "cell_type": "code",
   "execution_count": 3,
   "id": "717deb67",
   "metadata": {},
   "outputs": [
    {
     "data": {
      "text/html": [
       "<div>\n",
       "<style scoped>\n",
       "    .dataframe tbody tr th:only-of-type {\n",
       "        vertical-align: middle;\n",
       "    }\n",
       "\n",
       "    .dataframe tbody tr th {\n",
       "        vertical-align: top;\n",
       "    }\n",
       "\n",
       "    .dataframe thead th {\n",
       "        text-align: right;\n",
       "    }\n",
       "</style>\n",
       "<table border=\"1\" class=\"dataframe\">\n",
       "  <thead>\n",
       "    <tr style=\"text-align: right;\">\n",
       "      <th></th>\n",
       "      <th>PassengerId</th>\n",
       "      <th>Survived</th>\n",
       "      <th>Pclass</th>\n",
       "      <th>Name</th>\n",
       "      <th>Sex</th>\n",
       "      <th>Age</th>\n",
       "      <th>SibSp</th>\n",
       "      <th>Parch</th>\n",
       "      <th>Ticket</th>\n",
       "      <th>Fare</th>\n",
       "      <th>Cabin</th>\n",
       "      <th>Embarked</th>\n",
       "    </tr>\n",
       "  </thead>\n",
       "  <tbody>\n",
       "    <tr>\n",
       "      <th>0</th>\n",
       "      <td>1</td>\n",
       "      <td>0</td>\n",
       "      <td>3</td>\n",
       "      <td>Braund, Mr. Owen Harris</td>\n",
       "      <td>male</td>\n",
       "      <td>22.0</td>\n",
       "      <td>1</td>\n",
       "      <td>0</td>\n",
       "      <td>A/5 21171</td>\n",
       "      <td>7.2500</td>\n",
       "      <td>NaN</td>\n",
       "      <td>S</td>\n",
       "    </tr>\n",
       "    <tr>\n",
       "      <th>1</th>\n",
       "      <td>2</td>\n",
       "      <td>1</td>\n",
       "      <td>1</td>\n",
       "      <td>Cumings, Mrs. John Bradley (Florence Briggs Th...</td>\n",
       "      <td>female</td>\n",
       "      <td>38.0</td>\n",
       "      <td>1</td>\n",
       "      <td>0</td>\n",
       "      <td>PC 17599</td>\n",
       "      <td>71.2833</td>\n",
       "      <td>C85</td>\n",
       "      <td>C</td>\n",
       "    </tr>\n",
       "    <tr>\n",
       "      <th>2</th>\n",
       "      <td>3</td>\n",
       "      <td>1</td>\n",
       "      <td>3</td>\n",
       "      <td>Heikkinen, Miss. Laina</td>\n",
       "      <td>female</td>\n",
       "      <td>26.0</td>\n",
       "      <td>0</td>\n",
       "      <td>0</td>\n",
       "      <td>STON/O2. 3101282</td>\n",
       "      <td>7.9250</td>\n",
       "      <td>NaN</td>\n",
       "      <td>S</td>\n",
       "    </tr>\n",
       "    <tr>\n",
       "      <th>3</th>\n",
       "      <td>4</td>\n",
       "      <td>1</td>\n",
       "      <td>1</td>\n",
       "      <td>Futrelle, Mrs. Jacques Heath (Lily May Peel)</td>\n",
       "      <td>female</td>\n",
       "      <td>35.0</td>\n",
       "      <td>1</td>\n",
       "      <td>0</td>\n",
       "      <td>113803</td>\n",
       "      <td>53.1000</td>\n",
       "      <td>C123</td>\n",
       "      <td>S</td>\n",
       "    </tr>\n",
       "    <tr>\n",
       "      <th>4</th>\n",
       "      <td>5</td>\n",
       "      <td>0</td>\n",
       "      <td>3</td>\n",
       "      <td>Allen, Mr. William Henry</td>\n",
       "      <td>male</td>\n",
       "      <td>35.0</td>\n",
       "      <td>0</td>\n",
       "      <td>0</td>\n",
       "      <td>373450</td>\n",
       "      <td>8.0500</td>\n",
       "      <td>NaN</td>\n",
       "      <td>S</td>\n",
       "    </tr>\n",
       "  </tbody>\n",
       "</table>\n",
       "</div>"
      ],
      "text/plain": [
       "   PassengerId  Survived  Pclass  \\\n",
       "0            1         0       3   \n",
       "1            2         1       1   \n",
       "2            3         1       3   \n",
       "3            4         1       1   \n",
       "4            5         0       3   \n",
       "\n",
       "                                                Name     Sex   Age  SibSp  \\\n",
       "0                            Braund, Mr. Owen Harris    male  22.0      1   \n",
       "1  Cumings, Mrs. John Bradley (Florence Briggs Th...  female  38.0      1   \n",
       "2                             Heikkinen, Miss. Laina  female  26.0      0   \n",
       "3       Futrelle, Mrs. Jacques Heath (Lily May Peel)  female  35.0      1   \n",
       "4                           Allen, Mr. William Henry    male  35.0      0   \n",
       "\n",
       "   Parch            Ticket     Fare Cabin Embarked  \n",
       "0      0         A/5 21171   7.2500   NaN        S  \n",
       "1      0          PC 17599  71.2833   C85        C  \n",
       "2      0  STON/O2. 3101282   7.9250   NaN        S  \n",
       "3      0            113803  53.1000  C123        S  \n",
       "4      0            373450   8.0500   NaN        S  "
      ]
     },
     "execution_count": 3,
     "metadata": {},
     "output_type": "execute_result"
    }
   ],
   "source": [
    "df = pd.read_csv(filepath)\n",
    "df.head()"
   ]
  },
  {
   "cell_type": "markdown",
   "id": "14e4296d",
   "metadata": {},
   "source": [
    "We are interested in the \"Survived\" column, where are two possible outcomes: survived (1) or did not survive (0). We want to build a classifier to predict this outcome. Specifically, we are going to investigate how the passenger class, age and sex influenced survival.\n",
    "\n",
    "For passenger class, we are going to use dummy variables to represent the three possible states: binary variables which take on the value 0 if not true and 1 if true.\n",
    "\n",
    "Create dummy variables for classes 1 and 2. This implicitly means that the 3rd class will be the base case that we compare to."
   ]
  },
  {
   "cell_type": "code",
   "execution_count": 4,
   "id": "4152ef29",
   "metadata": {},
   "outputs": [],
   "source": [
    "# Create new columns based on conditions\n",
    "df['Class_1'] = np.where(df['Pclass'] == 1, 1, 0)\n",
    "df['Class_2'] = np.where(df['Pclass'] == 2, 1, 0)"
   ]
  },
  {
   "cell_type": "markdown",
   "id": "3ff78cfa",
   "metadata": {},
   "source": [
    "Create a dummy variable equal to 1 if the passenger was female.\n"
   ]
  },
  {
   "cell_type": "code",
   "execution_count": 5,
   "id": "319baf1e",
   "metadata": {},
   "outputs": [
    {
     "data": {
      "text/html": [
       "<div>\n",
       "<style scoped>\n",
       "    .dataframe tbody tr th:only-of-type {\n",
       "        vertical-align: middle;\n",
       "    }\n",
       "\n",
       "    .dataframe tbody tr th {\n",
       "        vertical-align: top;\n",
       "    }\n",
       "\n",
       "    .dataframe thead th {\n",
       "        text-align: right;\n",
       "    }\n",
       "</style>\n",
       "<table border=\"1\" class=\"dataframe\">\n",
       "  <thead>\n",
       "    <tr style=\"text-align: right;\">\n",
       "      <th></th>\n",
       "      <th>PassengerId</th>\n",
       "      <th>Survived</th>\n",
       "      <th>Pclass</th>\n",
       "      <th>Name</th>\n",
       "      <th>Sex</th>\n",
       "      <th>Age</th>\n",
       "      <th>SibSp</th>\n",
       "      <th>Parch</th>\n",
       "      <th>Ticket</th>\n",
       "      <th>Fare</th>\n",
       "      <th>Cabin</th>\n",
       "      <th>Embarked</th>\n",
       "      <th>Class_1</th>\n",
       "      <th>Class_2</th>\n",
       "    </tr>\n",
       "  </thead>\n",
       "  <tbody>\n",
       "    <tr>\n",
       "      <th>0</th>\n",
       "      <td>1</td>\n",
       "      <td>0</td>\n",
       "      <td>3</td>\n",
       "      <td>Braund, Mr. Owen Harris</td>\n",
       "      <td>0</td>\n",
       "      <td>22.0</td>\n",
       "      <td>1</td>\n",
       "      <td>0</td>\n",
       "      <td>A/5 21171</td>\n",
       "      <td>7.2500</td>\n",
       "      <td>NaN</td>\n",
       "      <td>S</td>\n",
       "      <td>0</td>\n",
       "      <td>0</td>\n",
       "    </tr>\n",
       "    <tr>\n",
       "      <th>1</th>\n",
       "      <td>2</td>\n",
       "      <td>1</td>\n",
       "      <td>1</td>\n",
       "      <td>Cumings, Mrs. John Bradley (Florence Briggs Th...</td>\n",
       "      <td>1</td>\n",
       "      <td>38.0</td>\n",
       "      <td>1</td>\n",
       "      <td>0</td>\n",
       "      <td>PC 17599</td>\n",
       "      <td>71.2833</td>\n",
       "      <td>C85</td>\n",
       "      <td>C</td>\n",
       "      <td>1</td>\n",
       "      <td>0</td>\n",
       "    </tr>\n",
       "    <tr>\n",
       "      <th>2</th>\n",
       "      <td>3</td>\n",
       "      <td>1</td>\n",
       "      <td>3</td>\n",
       "      <td>Heikkinen, Miss. Laina</td>\n",
       "      <td>1</td>\n",
       "      <td>26.0</td>\n",
       "      <td>0</td>\n",
       "      <td>0</td>\n",
       "      <td>STON/O2. 3101282</td>\n",
       "      <td>7.9250</td>\n",
       "      <td>NaN</td>\n",
       "      <td>S</td>\n",
       "      <td>0</td>\n",
       "      <td>0</td>\n",
       "    </tr>\n",
       "    <tr>\n",
       "      <th>3</th>\n",
       "      <td>4</td>\n",
       "      <td>1</td>\n",
       "      <td>1</td>\n",
       "      <td>Futrelle, Mrs. Jacques Heath (Lily May Peel)</td>\n",
       "      <td>1</td>\n",
       "      <td>35.0</td>\n",
       "      <td>1</td>\n",
       "      <td>0</td>\n",
       "      <td>113803</td>\n",
       "      <td>53.1000</td>\n",
       "      <td>C123</td>\n",
       "      <td>S</td>\n",
       "      <td>1</td>\n",
       "      <td>0</td>\n",
       "    </tr>\n",
       "    <tr>\n",
       "      <th>4</th>\n",
       "      <td>5</td>\n",
       "      <td>0</td>\n",
       "      <td>3</td>\n",
       "      <td>Allen, Mr. William Henry</td>\n",
       "      <td>0</td>\n",
       "      <td>35.0</td>\n",
       "      <td>0</td>\n",
       "      <td>0</td>\n",
       "      <td>373450</td>\n",
       "      <td>8.0500</td>\n",
       "      <td>NaN</td>\n",
       "      <td>S</td>\n",
       "      <td>0</td>\n",
       "      <td>0</td>\n",
       "    </tr>\n",
       "  </tbody>\n",
       "</table>\n",
       "</div>"
      ],
      "text/plain": [
       "   PassengerId  Survived  Pclass  \\\n",
       "0            1         0       3   \n",
       "1            2         1       1   \n",
       "2            3         1       3   \n",
       "3            4         1       1   \n",
       "4            5         0       3   \n",
       "\n",
       "                                                Name Sex   Age  SibSp  Parch  \\\n",
       "0                            Braund, Mr. Owen Harris   0  22.0      1      0   \n",
       "1  Cumings, Mrs. John Bradley (Florence Briggs Th...   1  38.0      1      0   \n",
       "2                             Heikkinen, Miss. Laina   1  26.0      0      0   \n",
       "3       Futrelle, Mrs. Jacques Heath (Lily May Peel)   1  35.0      1      0   \n",
       "4                           Allen, Mr. William Henry   0  35.0      0      0   \n",
       "\n",
       "             Ticket     Fare Cabin Embarked  Class_1  Class_2  \n",
       "0         A/5 21171   7.2500   NaN        S        0        0  \n",
       "1          PC 17599  71.2833   C85        C        1        0  \n",
       "2  STON/O2. 3101282   7.9250   NaN        S        0        0  \n",
       "3            113803  53.1000  C123        S        1        0  \n",
       "4            373450   8.0500   NaN        S        0        0  "
      ]
     },
     "execution_count": 5,
     "metadata": {},
     "output_type": "execute_result"
    }
   ],
   "source": [
    "df.loc[df['Sex']=='male', 'Sex'] = 0\n",
    "df.loc[df['Sex']=='female', 'Sex'] = 1\n",
    "df.head()"
   ]
  },
  {
   "cell_type": "markdown",
   "id": "85529945",
   "metadata": {},
   "source": [
    "Clean up the data - drop all variables except for 'Class_1', 'Class_2',  'Sex' and 'Age', for our inputs and  'Survived' for our outputs."
   ]
  },
  {
   "cell_type": "code",
   "execution_count": 6,
   "id": "5e24e642",
   "metadata": {},
   "outputs": [
    {
     "data": {
      "text/html": [
       "<div>\n",
       "<style scoped>\n",
       "    .dataframe tbody tr th:only-of-type {\n",
       "        vertical-align: middle;\n",
       "    }\n",
       "\n",
       "    .dataframe tbody tr th {\n",
       "        vertical-align: top;\n",
       "    }\n",
       "\n",
       "    .dataframe thead th {\n",
       "        text-align: right;\n",
       "    }\n",
       "</style>\n",
       "<table border=\"1\" class=\"dataframe\">\n",
       "  <thead>\n",
       "    <tr style=\"text-align: right;\">\n",
       "      <th></th>\n",
       "      <th>Class_1</th>\n",
       "      <th>Class_2</th>\n",
       "      <th>Sex</th>\n",
       "      <th>Age</th>\n",
       "      <th>Survived</th>\n",
       "    </tr>\n",
       "  </thead>\n",
       "  <tbody>\n",
       "    <tr>\n",
       "      <th>0</th>\n",
       "      <td>0</td>\n",
       "      <td>0</td>\n",
       "      <td>0</td>\n",
       "      <td>22.0</td>\n",
       "      <td>0</td>\n",
       "    </tr>\n",
       "    <tr>\n",
       "      <th>1</th>\n",
       "      <td>1</td>\n",
       "      <td>0</td>\n",
       "      <td>1</td>\n",
       "      <td>38.0</td>\n",
       "      <td>1</td>\n",
       "    </tr>\n",
       "    <tr>\n",
       "      <th>2</th>\n",
       "      <td>0</td>\n",
       "      <td>0</td>\n",
       "      <td>1</td>\n",
       "      <td>26.0</td>\n",
       "      <td>1</td>\n",
       "    </tr>\n",
       "    <tr>\n",
       "      <th>3</th>\n",
       "      <td>1</td>\n",
       "      <td>0</td>\n",
       "      <td>1</td>\n",
       "      <td>35.0</td>\n",
       "      <td>1</td>\n",
       "    </tr>\n",
       "    <tr>\n",
       "      <th>4</th>\n",
       "      <td>0</td>\n",
       "      <td>0</td>\n",
       "      <td>0</td>\n",
       "      <td>35.0</td>\n",
       "      <td>0</td>\n",
       "    </tr>\n",
       "  </tbody>\n",
       "</table>\n",
       "</div>"
      ],
      "text/plain": [
       "   Class_1  Class_2 Sex   Age  Survived\n",
       "0        0        0   0  22.0         0\n",
       "1        1        0   1  38.0         1\n",
       "2        0        0   1  26.0         1\n",
       "3        1        0   1  35.0         1\n",
       "4        0        0   0  35.0         0"
      ]
     },
     "execution_count": 6,
     "metadata": {},
     "output_type": "execute_result"
    }
   ],
   "source": [
    "df = df[['Class_1', 'Class_2', 'Sex', 'Age', 'Survived']]\n",
    "df = df.dropna()\n",
    "df.head()"
   ]
  },
  {
   "cell_type": "markdown",
   "id": "8cfb92d3",
   "metadata": {},
   "source": [
    "Split the data into training, validation and test data"
   ]
  },
  {
   "cell_type": "code",
   "execution_count": 7,
   "id": "2fca38cb",
   "metadata": {},
   "outputs": [],
   "source": [
    "# Split into ~60% training, 20% validation, 20% test\n",
    "training = df.iloc[:109, :]\n",
    "validation = df.iloc[109:145, :]\n",
    "testing = df.iloc[145:, :]"
   ]
  },
  {
   "cell_type": "markdown",
   "id": "85a98800",
   "metadata": {},
   "source": [
    "Set up your X and y variables using the \"Class_1\" and \"Class_2\" variables.\n"
   ]
  },
  {
   "cell_type": "code",
   "execution_count": 8,
   "id": "b10dd29f",
   "metadata": {},
   "outputs": [],
   "source": [
    "X = training[['Class_1', 'Class_2']].values\n",
    "y = training['Survived'].values"
   ]
  },
  {
   "cell_type": "markdown",
   "id": "48218e40",
   "metadata": {},
   "source": [
    "## Logistic Regression\n",
    "Here we will create our own logistic regression classifier."
   ]
  },
  {
   "cell_type": "markdown",
   "id": "18f10106",
   "metadata": {},
   "source": [
    "\n",
    "Write an R function for the logistic function: $\\theta = \\frac{1}{1 + \\exp(-x)}$. The function takes \\(x\\) as its sole argument. Plot the function.\n"
   ]
  },
  {
   "cell_type": "code",
   "execution_count": 9,
   "id": "e42472e3",
   "metadata": {},
   "outputs": [],
   "source": [
    "def logistic(x):\n",
    "    return 1 / (1 + np.exp(-x))"
   ]
  },
  {
   "cell_type": "code",
   "execution_count": 10,
   "id": "a01b5d76",
   "metadata": {},
   "outputs": [
    {
     "data": {
      "text/plain": [
       "Text(0, 0.5, 'theta')"
      ]
     },
     "execution_count": 10,
     "metadata": {},
     "output_type": "execute_result"
    },
    {
     "data": {
      "image/png": "[encoded data removed]",
      "text/plain": [
       "<Figure size 640x480 with 1 Axes>"
      ]
     },
     "metadata": {},
     "output_type": "display_data"
    }
   ],
   "source": [
    "x = np.linspace(-8, 8, 1000)\n",
    "theta = logistic(x)\n",
    "plt.plot(x, theta)\n",
    "plt.xlabel(\"x\")\n",
    "plt.ylabel(\"theta\")"
   ]
  },
  {
   "cell_type": "markdown",
   "id": "83dece55",
   "metadata": {},
   "source": [
    "We are going to use the logistic function to represent the probability of a passenger surviving. But to do so, we need to write a function which returns the linear combination of $(\\beta_0 + \\beta_1 z_1 + \\beta_2 z_2)$. The function should take as inputs $ ( \\beta_0, \\beta_1, \\beta_2 )$ (the regression parameters) and the covariates $z_1$ and $z_2$.\n"
   ]
  },
  {
   "cell_type": "code",
   "execution_count": 11,
   "id": "3a3d1cb4",
   "metadata": {},
   "outputs": [],
   "source": [
    "def linear_combination(beta_0, beta_1, beta_2, z_1, z_2):\n",
    "    return beta_0 + beta_1 * z_1 + beta_2 * z_2"
   ]
  },
  {
   "cell_type": "markdown",
   "id": "875d64d4",
   "metadata": {},
   "source": [
    "Write a function which returns the probability:\n",
    "\n",
    "$$\\theta_i = Logistic(\\beta_0 + \\beta_1 * z_1 + \\beta_2 * z_2) $$\n",
    "\n",
    "where $Logistic$ is the function you created above. The function should takes as input $ ( \\beta_0, \\beta_1, \\beta_2 )$ (the regression parameters) and the covariates $z_1$ and $z_2$."
   ]
  },
  {
   "cell_type": "code",
   "execution_count": 12,
   "id": "e759804b",
   "metadata": {},
   "outputs": [],
   "source": [
    "def probability(beta_0, beta_1, beta_2, z_1, z_2):\n",
    "    return logistic(linear_combination(beta_0, beta_1, beta_2, z_1, z_2))"
   ]
  },
  {
   "cell_type": "markdown",
   "id": "2d042a46",
   "metadata": {},
   "source": [
    "We are now going to write a function which returns the log-likelihood for a single set, $i$ of data points: $(z_{1i}, z_{2i}, Si)$ where $S_i\\in{0,1}$ represents whether a passenger survived (1) or not (0). In logistic regression, we assume that $S_i \\sim Bernoulli(\\theta_i)$. This means that the likelihood, $L_i$, for a single set of data points is given by:\n",
    "\n",
    "$$ L_i = \\theta_i^{S_i} (1-\\theta_i)^{1-S_i} $$\n",
    "\n",
    "Write a function with takes as input $ ( \\beta_0, \\beta_1, \\beta_2 )$ (the regression parameters) and the covariates $z_1$ and $z_2$ and (crucially!) a value of $S_i$ and returns the likelihood $L_i$\n",
    "\n",
    ".\n"
   ]
  },
  {
   "cell_type": "code",
   "execution_count": 13,
   "id": "5296a47e",
   "metadata": {},
   "outputs": [],
   "source": [
    "def likelihood_i(S_i, beta_0, beta_1, beta_2, z_1, z_2):\n",
    "    theta_i = probability(beta_0, beta_1, beta_2, z_1, z_2)\n",
    "    return theta_i**S_i * (1 - theta_i)**(1 - S_i)\n"
   ]
  },
  {
   "cell_type": "markdown",
   "id": "ceb38472",
   "metadata": {},
   "source": [
    "The overall likelihood of observations is given by the product of the individual likelihoods of each data point, since we assume that the data are (conditionally) independent given the parameters:\n",
    "\n",
    "$$ L = \\prod_i^{N} L_i $$\n",
    "\n",
    "Write a function that takes as input your processed Titanic dataset and the parameters $\\beta_0, \\beta_1, \\beta_2$ \n",
    "and returns the likelihood. In calculating the likelihood, specify that $z_1$ and $z_2$ should be your class dummies."
   ]
  },
  {
   "cell_type": "code",
   "execution_count": 14,
   "id": "e2fa5e40",
   "metadata": {},
   "outputs": [],
   "source": [
    "def likelihood(beta_0, beta_1, beta_2, df):\n",
    "    val = 1\n",
    "    for i in range(len(df)):\n",
    "        row = df.iloc[i, :]\n",
    "        val = val * likelihood_i(row[\"Survived\"], beta_0, beta_1, beta_2,\n",
    "                                 row[\"Class_1\"], row[\"Class_2\"])\n",
    "    return val\n"
   ]
  },
  {
   "cell_type": "markdown",
   "id": "3f0aabbb",
   "metadata": {},
   "source": [
    "We are now going to try to estimate the parameters $\\beta_0$ and $\\beta_1$ by doing a grid search. We start by fixing $\\beta_0=-1.14$  (this is the maximum likelihood value of the parameter). We are then going to do a grid search across all combinations of the following values of  $\\beta_1=(0,1,1.67,2,2.5)$ $\\beta_2=(−1,0,1,2,3)$. For each of the 25 combinations of both sets of parameters, calculate the likelihood. In doing so, find parameters that are close to the maximum likelihood values."
   ]
  },
  {
   "cell_type": "code",
   "execution_count": 15,
   "id": "cfe9fe1e",
   "metadata": {},
   "outputs": [
    {
     "data": {
      "text/plain": [
       "array([[6.61131820e-254, 2.37123499e-230, 1.85180925e-220,\n",
       "        1.54706613e-228, 5.56653906e-252],\n",
       "       [4.84259923e-229, 1.73686100e-205, 1.35639668e-195,\n",
       "        1.13318117e-203, 4.07732875e-227],\n",
       "       [3.29162645e-223, 1.18058450e-199, 9.21974124e-190,\n",
       "        7.70249389e-198, 2.77145444e-221],\n",
       "       [1.69340124e-223, 6.07360311e-200, 4.74316314e-190,\n",
       "        3.96260417e-198, 1.42579496e-221],\n",
       "       [2.41039949e-227, 8.64521031e-204, 6.75145250e-194,\n",
       "        5.64039926e-202, 2.02948679e-225]])"
      ]
     },
     "execution_count": 15,
     "metadata": {},
     "output_type": "execute_result"
    }
   ],
   "source": [
    "beta_0 = -1.14\n",
    "beta_1 = [0, 1, 1.67, 2, 2.5]\n",
    "beta_2 = [-1, 0, 1, 2, 3]\n",
    "likelihood_grid = np.zeros((len(beta_1), len(beta_2)))\n",
    "\n",
    "for i in range(len(beta_1)):\n",
    "    for j in range(len(beta_2)):\n",
    "        likelihood_grid[i, j] = likelihood(beta_0, beta_1[i], beta_2[j], df)\n",
    "\n",
    "        \n",
    "likelihood_grid"
   ]
  },
  {
   "cell_type": "code",
   "execution_count": 16,
   "id": "fa4d0a19",
   "metadata": {},
   "outputs": [
    {
     "data": {
      "text/plain": [
       "array([[6.61131820e-254, 2.37123499e-230, 1.85180925e-220,\n",
       "        1.54706613e-228, 5.56653906e-252],\n",
       "       [4.84259923e-229, 1.73686100e-205, 1.35639668e-195,\n",
       "        1.13318117e-203, 4.07732875e-227],\n",
       "       [3.29162645e-223, 1.18058450e-199, 9.21974124e-190,\n",
       "        7.70249389e-198, 2.77145444e-221],\n",
       "       [1.69340124e-223, 6.07360311e-200, 4.74316314e-190,\n",
       "        3.96260417e-198, 1.42579496e-221],\n",
       "       [2.41039949e-227, 8.64521031e-204, 6.75145250e-194,\n",
       "        5.64039926e-202, 2.02948679e-225]])"
      ]
     },
     "execution_count": 16,
     "metadata": {},
     "output_type": "execute_result"
    }
   ],
   "source": [
    "beta_0 = -1.14\n",
    "beta_1 = [0, 1, 1.67, 2, 2.5]\n",
    "beta_2 = [-1, 0, 1, 2, 3]\n",
    "likelihood_grid = np.zeros((len(beta_1), len(beta_2)))\n",
    "\n",
    "for i in range(len(beta_1)):\n",
    "    for j in range(len(beta_2)):\n",
    "        likelihood_grid[i, j] = likelihood(beta_0, beta_1[i], beta_2[j], df)\n",
    "\n",
    "        \n",
    "likelihood_grid"
   ]
  },
  {
   "cell_type": "markdown",
   "id": "487138ec",
   "metadata": {},
   "source": [
    "Find the values of `beta_1` and `beta_2` in the grid with the maximum likelihood (note, if you are using `np.argmax`, the output index will be flattened, `np.unravel_index` may be helpful.)"
   ]
  },
  {
   "cell_type": "code",
   "execution_count": 17,
   "id": "1c9f9cb8",
   "metadata": {},
   "outputs": [
    {
     "data": {
      "text/plain": [
       "array([[6.61131820e-254, 2.37123499e-230, 1.85180925e-220,\n",
       "        1.54706613e-228, 5.56653906e-252],\n",
       "       [4.84259923e-229, 1.73686100e-205, 1.35639668e-195,\n",
       "        1.13318117e-203, 4.07732875e-227],\n",
       "       [3.29162645e-223, 1.18058450e-199, 9.21974124e-190,\n",
       "        7.70249389e-198, 2.77145444e-221],\n",
       "       [1.69340124e-223, 6.07360311e-200, 4.74316314e-190,\n",
       "        3.96260417e-198, 1.42579496e-221],\n",
       "       [2.41039949e-227, 8.64521031e-204, 6.75145250e-194,\n",
       "        5.64039926e-202, 2.02948679e-225]])"
      ]
     },
     "execution_count": 17,
     "metadata": {},
     "output_type": "execute_result"
    }
   ],
   "source": [
    "likelihood_grid"
   ]
  },
  {
   "cell_type": "code",
   "execution_count": 18,
   "id": "d22af739",
   "metadata": {},
   "outputs": [
    {
     "data": {
      "text/plain": [
       "Text(0, 0.5, 'beta_2')"
      ]
     },
     "execution_count": 18,
     "metadata": {},
     "output_type": "execute_result"
    },
    {
     "data": {
      "image/png": "[encoded data removed]",
      "text/plain": [
       "<Figure size 640x480 with 1 Axes>"
      ]
     },
     "metadata": {},
     "output_type": "display_data"
    }
   ],
   "source": [
    "# First check how the likelihood looks as we traverse beta_1 and beta_2\n",
    "plt.pcolormesh(beta_1, beta_2, likelihood_grid, shading=\"nearest\")\n",
    "plt.xlabel(\"beta_1\")\n",
    "plt.ylabel(\"beta_2\")"
   ]
  },
  {
   "cell_type": "code",
   "execution_count": 19,
   "id": "6556c9dc",
   "metadata": {},
   "outputs": [
    {
     "data": {
      "text/plain": [
       "(2, 2)"
      ]
     },
     "execution_count": 19,
     "metadata": {},
     "output_type": "execute_result"
    }
   ],
   "source": [
    "max_likelihood_inds = np.unravel_index(np.argmax(likelihood_grid), likelihood_grid.shape)\n",
    "max_likelihood_inds"
   ]
  },
  {
   "cell_type": "code",
   "execution_count": 20,
   "id": "771c62ad",
   "metadata": {},
   "outputs": [
    {
     "name": "stdout",
     "output_type": "stream",
     "text": [
      "max likelihood 9.21974123647161e-190 when beta_1 = 1.67 and beta_2 = 1\n"
     ]
    }
   ],
   "source": [
    "beta_1_mle = beta_1[max_likelihood_inds[1]]\n",
    "beta_2_mle = beta_2[max_likelihood_inds[0]]\n",
    "max_likelihood = likelihood_grid[max_likelihood_inds]\n",
    "print(f\"max likelihood {max_likelihood} when beta_1 = {beta_1_mle} and beta_2 = {beta_2_mle}\")"
   ]
  },
  {
   "cell_type": "code",
   "execution_count": null,
   "id": "29d2f9c3",
   "metadata": {},
   "outputs": [],
   "source": []
  },
  {
   "cell_type": "markdown",
   "id": "58faea3e",
   "metadata": {},
   "source": [
    "Compare your results to the what you would get with [`sklearn.linear_model.LogisticRegression`](https://scikit-learn.org/1.5/modules/generated/sklearn.linear_model.LogisticRegression.html)"
   ]
  },
  {
   "cell_type": "code",
   "execution_count": 21,
   "id": "5f841a82",
   "metadata": {},
   "outputs": [
    {
     "data": {
      "text/plain": [
       "array([[1.80126317, 1.07487876]])"
      ]
     },
     "execution_count": 21,
     "metadata": {},
     "output_type": "execute_result"
    }
   ],
   "source": [
    "import sklearn\n",
    "from sklearn.linear_model import LogisticRegression\n",
    "\n",
    "# Set up and fit the logistic regression model\n",
    "reg = LogisticRegression(penalty=None)\n",
    "reg.fit(df[['Class_1', 'Class_2']], df[\"Survived\"])\n",
    "reg.coef_"
   ]
  },
  {
   "cell_type": "code",
   "execution_count": 22,
   "id": "3e351243",
   "metadata": {},
   "outputs": [
    {
     "data": {
      "text/plain": [
       "array([-1.15578838])"
      ]
     },
     "execution_count": 22,
     "metadata": {},
     "output_type": "execute_result"
    }
   ],
   "source": [
    "reg.intercept_"
   ]
  },
  {
   "cell_type": "markdown",
   "id": "152e8965",
   "metadata": {},
   "source": [
    "What do your estimates suggest are the odds ratios for survival relative to 3rd class passengers for being in 1st and 2nd classes respectively?\n",
    "\n"
   ]
  },
  {
   "cell_type": "markdown",
   "id": "b6eba48a",
   "metadata": {},
   "source": [
    "The odds ratios are given by the exponent of the estimates."
   ]
  },
  {
   "cell_type": "code",
   "execution_count": 23,
   "id": "775bcbcd",
   "metadata": {},
   "outputs": [
    {
     "name": "stdout",
     "output_type": "stream",
     "text": [
      "Odds ratio for class 1 to class 3: 5.3122. Odds ratio for class 2 to class 3: 2.7183.\n"
     ]
    }
   ],
   "source": [
    "odds_ratio_class1 = np.exp(beta_1_mle)\n",
    "odds_ratio_class2 = np.exp(beta_2_mle)\n",
    "print(f\"Odds ratio for class 1 to class 3: {odds_ratio_class1:.4f}. \\\n",
    "Odds ratio for class 2 to class 3: {odds_ratio_class2:.4f}.\")"
   ]
  },
  {
   "cell_type": "markdown",
   "id": "270220ee",
   "metadata": {},
   "source": [
    "What does your model predict is the change in probability of survival in moving from 3rd to 2nd class?\n"
   ]
  },
  {
   "cell_type": "code",
   "execution_count": 24,
   "id": "d60c79ae",
   "metadata": {},
   "outputs": [
    {
     "name": "stdout",
     "output_type": "stream",
     "text": [
      "3rd class survival prob: 0.2423 \n"
     ]
    }
   ],
   "source": [
    "# 3rd class survival: class_1 = 0, class_2 = 0\n",
    "survival_3 = probability(beta_0, beta_1_mle, beta_2_mle, 0, 0)\n",
    "print(f\"3rd class survival prob: {survival_3:.4f} \")"
   ]
  },
  {
   "cell_type": "code",
   "execution_count": 25,
   "id": "23fd13ad",
   "metadata": {},
   "outputs": [
    {
     "name": "stdout",
     "output_type": "stream",
     "text": [
      "2nd class survival prob: 0.4651 \n"
     ]
    }
   ],
   "source": [
    "# 2nd class survival: class_1 = 0, class_2 = 1\n",
    "survival_2 = probability(beta_0, beta_1_mle, beta_2_mle, 0, 1)\n",
    "print(f\"2nd class survival prob: {survival_2:.4f} \")"
   ]
  },
  {
   "cell_type": "code",
   "execution_count": 26,
   "id": "86b65971",
   "metadata": {},
   "outputs": [
    {
     "name": "stdout",
     "output_type": "stream",
     "text": [
      "Change in survival prob: 0.2227\n"
     ]
    }
   ],
   "source": [
    "print(f\"Change in survival prob: {survival_2 - survival_3:.4f}\")"
   ]
  },
  {
   "cell_type": "markdown",
   "id": "d078bb3e",
   "metadata": {},
   "source": [
    "What is the change in probability in moving from 2nd to 1st class?\n"
   ]
  },
  {
   "cell_type": "code",
   "execution_count": 27,
   "id": "4f660f70",
   "metadata": {},
   "outputs": [
    {
     "name": "stdout",
     "output_type": "stream",
     "text": [
      "1st class survival prob: 0.6295 \n"
     ]
    }
   ],
   "source": [
    "# 1st class survival: class_1 = 1, class_2 = 0\n",
    "survival_1 = probability(beta_0, beta_1_mle, beta_2_mle, 1, 0)\n",
    "print(f\"1st class survival prob: {survival_1:.4f} \")"
   ]
  },
  {
   "cell_type": "code",
   "execution_count": 28,
   "id": "d244cc69",
   "metadata": {},
   "outputs": [
    {
     "name": "stdout",
     "output_type": "stream",
     "text": [
      "Change in survival prob: 0.1644\n"
     ]
    }
   ],
   "source": [
    "print(f\"Change in survival prob: {survival_1 - survival_2:.4f}\")"
   ]
  },
  {
   "cell_type": "code",
   "execution_count": null,
   "id": "13becf59",
   "metadata": {},
   "outputs": [],
   "source": []
  },
  {
   "cell_type": "markdown",
   "id": "f631a2cb",
   "metadata": {},
   "source": [
    "## Decision Trees"
   ]
  },
  {
   "cell_type": "markdown",
   "id": "ca9ba90b",
   "metadata": {},
   "source": [
    "We are going to build our own decision tree. We will use a five variables here. For age, we are going to split the data up into three segments: (i) those aged 16 or less; (ii) those between 16 and 60; (iii) and those over 60. Create dummy variables for categories (i) and (iii). "
   ]
  },
  {
   "cell_type": "code",
   "execution_count": 29,
   "id": "4516c59e",
   "metadata": {},
   "outputs": [],
   "source": [
    "df['Age_children'] = np.where(df['Age'] <= 16, 1, 0)\n",
    "df['Age_old'] = np.where(df['Age'] > 60, 1, 0)\n",
    "df = df[['Age_children', 'Age_old', 'Class_1', 'Class_2', 'Sex', 'Survived']]\n"
   ]
  },
  {
   "cell_type": "markdown",
   "id": "951220b9",
   "metadata": {},
   "source": [
    "The entropy of a binary outcome variable, $X_i$, is given by:\n",
    "\n",
    "$$ H = p \\log p + (1-p) \\log (1-p) $$\n",
    "\n",
    "where $ p = \\Pr(X=1)$. \n",
    "\n",
    "\n",
    "Write a function which can calculate the entropy of a binary vector. Use it to calculate the entropy of the survival variable in the full dataset"
   ]
  },
  {
   "cell_type": "code",
   "execution_count": 30,
   "id": "09787ce0",
   "metadata": {},
   "outputs": [
    {
     "name": "stdout",
     "output_type": "stream",
     "text": [
      "0.6754313479380426\n"
     ]
    }
   ],
   "source": [
    "# Function to calculate entropy\n",
    "def entropy(v_binary):\n",
    "    p = np.mean(v_binary == 1)\n",
    "    \n",
    "    if 0 < p < 1:\n",
    "        return -p * math.log(p) - (1 - p) * math.log(1 - p)\n",
    "    else:\n",
    "        return 0\n",
    "\n",
    "\n",
    "# Calculate total entropy\n",
    "total_entropy = entropy(df['Survived'])\n",
    "print(total_entropy)"
   ]
  },
  {
   "cell_type": "markdown",
   "id": "7b7f1566",
   "metadata": {},
   "source": [
    "## Building a Decision Tree Classifier\n",
    "\n",
    "We now start to build a decision tree classifier. To do so, we are going to choose one of the five variables to split on based on the reduction in entropy this provides. To do so, we calculate the conditional entropy, $H(X|V) $, where $V $\n",
    "\n",
    "is a particular variable we have split on. At each step, we will choose the variable to split on so that it results in the greatest reduction in entropy.\n",
    "\n",
    "### Conditional Entropy for a Binary Variable\n",
    "\n",
    "The conditional entropy for a binary variable, $V$, is given by:\n",
    "\n",
    "$$\n",
    "H(X|V) = \\frac{S(V=1)}{S(\\varnothing)} \\times H(S(V=1)) + \\frac{S(V=0)}{S(\\varnothing)} \\times H(S(V=0)),\n",
    "$$\n",
    "\n",
    "where $S(V=v)$\n",
    "is the set of members of the random variable $X $ corresponding to$V=v$. For example, consider:\n"
   ]
  },
  {
   "cell_type": "code",
   "execution_count": 31,
   "id": "f9422251",
   "metadata": {},
   "outputs": [
    {
     "data": {
      "text/html": [
       "<div>\n",
       "<style scoped>\n",
       "    .dataframe tbody tr th:only-of-type {\n",
       "        vertical-align: middle;\n",
       "    }\n",
       "\n",
       "    .dataframe tbody tr th {\n",
       "        vertical-align: top;\n",
       "    }\n",
       "\n",
       "    .dataframe thead th {\n",
       "        text-align: right;\n",
       "    }\n",
       "</style>\n",
       "<table border=\"1\" class=\"dataframe\">\n",
       "  <thead>\n",
       "    <tr style=\"text-align: right;\">\n",
       "      <th></th>\n",
       "      <th>X</th>\n",
       "      <th>V</th>\n",
       "    </tr>\n",
       "  </thead>\n",
       "  <tbody>\n",
       "    <tr>\n",
       "      <th>0</th>\n",
       "      <td>0</td>\n",
       "      <td>1</td>\n",
       "    </tr>\n",
       "    <tr>\n",
       "      <th>1</th>\n",
       "      <td>1</td>\n",
       "      <td>1</td>\n",
       "    </tr>\n",
       "    <tr>\n",
       "      <th>2</th>\n",
       "      <td>0</td>\n",
       "      <td>1</td>\n",
       "    </tr>\n",
       "    <tr>\n",
       "      <th>3</th>\n",
       "      <td>1</td>\n",
       "      <td>0</td>\n",
       "    </tr>\n",
       "    <tr>\n",
       "      <th>4</th>\n",
       "      <td>0</td>\n",
       "      <td>0</td>\n",
       "    </tr>\n",
       "    <tr>\n",
       "      <th>5</th>\n",
       "      <td>1</td>\n",
       "      <td>1</td>\n",
       "    </tr>\n",
       "  </tbody>\n",
       "</table>\n",
       "</div>"
      ],
      "text/plain": [
       "   X  V\n",
       "0  0  1\n",
       "1  1  1\n",
       "2  0  1\n",
       "3  1  0\n",
       "4  0  0\n",
       "5  1  1"
      ]
     },
     "execution_count": 31,
     "metadata": {},
     "output_type": "execute_result"
    }
   ],
   "source": [
    "df_example = pd.DataFrame({'X': [0, 1, 0, 1, 0, 1],\n",
    "                           'V': [1, 1, 1, 0, 0, 1]})\n",
    "df_example"
   ]
  },
  {
   "cell_type": "markdown",
   "id": "2e374030",
   "metadata": {},
   "source": [
    "then $S(V=1)$ is the $X$ column from the subsetted data frame:"
   ]
  },
  {
   "cell_type": "code",
   "execution_count": 32,
   "id": "fe33bf0d",
   "metadata": {},
   "outputs": [
    {
     "data": {
      "text/html": [
       "<div>\n",
       "<style scoped>\n",
       "    .dataframe tbody tr th:only-of-type {\n",
       "        vertical-align: middle;\n",
       "    }\n",
       "\n",
       "    .dataframe tbody tr th {\n",
       "        vertical-align: top;\n",
       "    }\n",
       "\n",
       "    .dataframe thead th {\n",
       "        text-align: right;\n",
       "    }\n",
       "</style>\n",
       "<table border=\"1\" class=\"dataframe\">\n",
       "  <thead>\n",
       "    <tr style=\"text-align: right;\">\n",
       "      <th></th>\n",
       "      <th>X</th>\n",
       "      <th>V</th>\n",
       "    </tr>\n",
       "  </thead>\n",
       "  <tbody>\n",
       "    <tr>\n",
       "      <th>0</th>\n",
       "      <td>0</td>\n",
       "      <td>1</td>\n",
       "    </tr>\n",
       "    <tr>\n",
       "      <th>1</th>\n",
       "      <td>1</td>\n",
       "      <td>1</td>\n",
       "    </tr>\n",
       "    <tr>\n",
       "      <th>2</th>\n",
       "      <td>0</td>\n",
       "      <td>1</td>\n",
       "    </tr>\n",
       "    <tr>\n",
       "      <th>5</th>\n",
       "      <td>1</td>\n",
       "      <td>1</td>\n",
       "    </tr>\n",
       "  </tbody>\n",
       "</table>\n",
       "</div>"
      ],
      "text/plain": [
       "   X  V\n",
       "0  0  1\n",
       "1  1  1\n",
       "2  0  1\n",
       "5  1  1"
      ]
     },
     "execution_count": 32,
     "metadata": {},
     "output_type": "execute_result"
    }
   ],
   "source": [
    "filtered_df = df_example[df_example['V'] == 1]\n",
    "filtered_df"
   ]
  },
  {
   "cell_type": "markdown",
   "id": "28c9ad19",
   "metadata": {},
   "source": [
    "Write a function to calculate the conditional entropy of splitting on a particular variable for your dataset."
   ]
  },
  {
   "cell_type": "code",
   "execution_count": 33,
   "id": "1eeff9ad",
   "metadata": {},
   "outputs": [],
   "source": [
    "def conditional_entropy(variable_name, df):\n",
    "    # Group by the given variable_name and calculate entropy for each group\n",
    "    df_subset_entropies = df.groupby(variable_name).agg(\n",
    "        H=('Survived', lambda x: entropy(x)),\n",
    "        n=('Survived', 'size')\n",
    "    ).reset_index()\n",
    "\n",
    "    # Calculate the probabilities (ps)\n",
    "    total_n = df_subset_entropies['n'].sum()\n",
    "    df_subset_entropies['p'] = df_subset_entropies['n'] / total_n\n",
    "\n",
    "    # Return the weighted sum of entropy\n",
    "    return (df_subset_entropies['p'] * df_subset_entropies['H']).sum()"
   ]
  },
  {
   "cell_type": "code",
   "execution_count": 34,
   "id": "9932f8d9",
   "metadata": {},
   "outputs": [
    {
     "data": {
      "text/plain": [
       "Index(['Age_children', 'Age_old', 'Class_1', 'Class_2', 'Sex', 'Survived'], dtype='object')"
      ]
     },
     "execution_count": 34,
     "metadata": {},
     "output_type": "execute_result"
    }
   ],
   "source": [
    "df.columns"
   ]
  },
  {
   "cell_type": "code",
   "execution_count": 35,
   "id": "44c33d6e",
   "metadata": {},
   "outputs": [],
   "source": [
    "# Extract column names except the first one\n",
    "vars = df.columns[:-1]  # All columns except 'survived'\n",
    "\n",
    "# Calculate entropy reduction for each variable\n",
    "Hs = []\n",
    "for var in vars:\n",
    "    Hs.append(conditional_entropy(var, df) - total_entropy)\n",
    "\n",
    "# Create the result DataFrame\n",
    "df_entropy_reduction = pd.DataFrame({\n",
    "    'variable': vars,\n",
    "    'entropy_reduction': Hs\n",
    "})\n"
   ]
  },
  {
   "cell_type": "code",
   "execution_count": 36,
   "id": "068710c5",
   "metadata": {},
   "outputs": [
    {
     "data": {
      "text/html": [
       "<div>\n",
       "<style scoped>\n",
       "    .dataframe tbody tr th:only-of-type {\n",
       "        vertical-align: middle;\n",
       "    }\n",
       "\n",
       "    .dataframe tbody tr th {\n",
       "        vertical-align: top;\n",
       "    }\n",
       "\n",
       "    .dataframe thead th {\n",
       "        text-align: right;\n",
       "    }\n",
       "</style>\n",
       "<table border=\"1\" class=\"dataframe\">\n",
       "  <thead>\n",
       "    <tr style=\"text-align: right;\">\n",
       "      <th></th>\n",
       "      <th>variable</th>\n",
       "      <th>entropy_reduction</th>\n",
       "    </tr>\n",
       "  </thead>\n",
       "  <tbody>\n",
       "    <tr>\n",
       "      <th>0</th>\n",
       "      <td>Age_children</td>\n",
       "      <td>-0.006857</td>\n",
       "    </tr>\n",
       "    <tr>\n",
       "      <th>1</th>\n",
       "      <td>Age_old</td>\n",
       "      <td>-0.002269</td>\n",
       "    </tr>\n",
       "    <tr>\n",
       "      <th>2</th>\n",
       "      <td>Class_1</td>\n",
       "      <td>-0.045194</td>\n",
       "    </tr>\n",
       "    <tr>\n",
       "      <th>3</th>\n",
       "      <td>Class_2</td>\n",
       "      <td>-0.003556</td>\n",
       "    </tr>\n",
       "    <tr>\n",
       "      <th>4</th>\n",
       "      <td>Sex</td>\n",
       "      <td>-0.149731</td>\n",
       "    </tr>\n",
       "  </tbody>\n",
       "</table>\n",
       "</div>"
      ],
      "text/plain": [
       "       variable  entropy_reduction\n",
       "0  Age_children          -0.006857\n",
       "1       Age_old          -0.002269\n",
       "2       Class_1          -0.045194\n",
       "3       Class_2          -0.003556\n",
       "4           Sex          -0.149731"
      ]
     },
     "execution_count": 36,
     "metadata": {},
     "output_type": "execute_result"
    }
   ],
   "source": [
    "df_entropy_reduction"
   ]
  },
  {
   "cell_type": "markdown",
   "id": "010f2368",
   "metadata": {},
   "source": [
    "Splitting on the female variable results in the greatest reduction in entropy.\n",
    "\n",
    "Explain intuitively why splitting on that variable resulted in the greatest reduction in entropy?\n",
    "\n",
    "To do this, consider the balance between the survival classes after splitting on each of the variables."
   ]
  },
  {
   "cell_type": "code",
   "execution_count": 37,
   "id": "be2817e5",
   "metadata": {},
   "outputs": [
    {
     "data": {
      "text/html": [
       "<div>\n",
       "<style scoped>\n",
       "    .dataframe tbody tr th:only-of-type {\n",
       "        vertical-align: middle;\n",
       "    }\n",
       "\n",
       "    .dataframe tbody tr th {\n",
       "        vertical-align: top;\n",
       "    }\n",
       "\n",
       "    .dataframe thead th {\n",
       "        text-align: right;\n",
       "    }\n",
       "</style>\n",
       "<table border=\"1\" class=\"dataframe\">\n",
       "  <thead>\n",
       "    <tr style=\"text-align: right;\">\n",
       "      <th></th>\n",
       "      <th>n</th>\n",
       "      <th>p</th>\n",
       "    </tr>\n",
       "    <tr>\n",
       "      <th>Age_children</th>\n",
       "      <th></th>\n",
       "      <th></th>\n",
       "    </tr>\n",
       "  </thead>\n",
       "  <tbody>\n",
       "    <tr>\n",
       "      <th>0</th>\n",
       "      <td>614</td>\n",
       "      <td>0.382736</td>\n",
       "    </tr>\n",
       "    <tr>\n",
       "      <th>1</th>\n",
       "      <td>100</td>\n",
       "      <td>0.550000</td>\n",
       "    </tr>\n",
       "  </tbody>\n",
       "</table>\n",
       "</div>"
      ],
      "text/plain": [
       "                n         p\n",
       "Age_children               \n",
       "0             614  0.382736\n",
       "1             100  0.550000"
      ]
     },
     "execution_count": 37,
     "metadata": {},
     "output_type": "execute_result"
    }
   ],
   "source": [
    "df.groupby('Age_children').agg(\n",
    "    n=('Survived', 'size'),  # Count the number of occurrences (n)\n",
    "    p=('Survived', 'mean')   # Calculate the mean of 'survived' (p)\n",
    ")"
   ]
  },
  {
   "cell_type": "code",
   "execution_count": 38,
   "id": "9f70d07e",
   "metadata": {},
   "outputs": [
    {
     "data": {
      "text/html": [
       "<div>\n",
       "<style scoped>\n",
       "    .dataframe tbody tr th:only-of-type {\n",
       "        vertical-align: middle;\n",
       "    }\n",
       "\n",
       "    .dataframe tbody tr th {\n",
       "        vertical-align: top;\n",
       "    }\n",
       "\n",
       "    .dataframe thead th {\n",
       "        text-align: right;\n",
       "    }\n",
       "</style>\n",
       "<table border=\"1\" class=\"dataframe\">\n",
       "  <thead>\n",
       "    <tr style=\"text-align: right;\">\n",
       "      <th></th>\n",
       "      <th>n</th>\n",
       "      <th>p</th>\n",
       "    </tr>\n",
       "    <tr>\n",
       "      <th>Age_old</th>\n",
       "      <th></th>\n",
       "      <th></th>\n",
       "    </tr>\n",
       "  </thead>\n",
       "  <tbody>\n",
       "    <tr>\n",
       "      <th>0</th>\n",
       "      <td>692</td>\n",
       "      <td>0.411850</td>\n",
       "    </tr>\n",
       "    <tr>\n",
       "      <th>1</th>\n",
       "      <td>22</td>\n",
       "      <td>0.227273</td>\n",
       "    </tr>\n",
       "  </tbody>\n",
       "</table>\n",
       "</div>"
      ],
      "text/plain": [
       "           n         p\n",
       "Age_old               \n",
       "0        692  0.411850\n",
       "1         22  0.227273"
      ]
     },
     "execution_count": 38,
     "metadata": {},
     "output_type": "execute_result"
    }
   ],
   "source": [
    "df.groupby('Age_old').agg(\n",
    "    n=('Survived', 'size'),  # Count the number of occurrences (n)\n",
    "    p=('Survived', 'mean')   # Calculate the mean of 'survived' (p)\n",
    ")"
   ]
  },
  {
   "cell_type": "code",
   "execution_count": 42,
   "id": "cc1e7b83",
   "metadata": {},
   "outputs": [
    {
     "data": {
      "text/html": [
       "<div>\n",
       "<style scoped>\n",
       "    .dataframe tbody tr th:only-of-type {\n",
       "        vertical-align: middle;\n",
       "    }\n",
       "\n",
       "    .dataframe tbody tr th {\n",
       "        vertical-align: top;\n",
       "    }\n",
       "\n",
       "    .dataframe thead th {\n",
       "        text-align: right;\n",
       "    }\n",
       "</style>\n",
       "<table border=\"1\" class=\"dataframe\">\n",
       "  <thead>\n",
       "    <tr style=\"text-align: right;\">\n",
       "      <th></th>\n",
       "      <th>n</th>\n",
       "      <th>p</th>\n",
       "    </tr>\n",
       "    <tr>\n",
       "      <th>Class_1</th>\n",
       "      <th></th>\n",
       "      <th></th>\n",
       "    </tr>\n",
       "  </thead>\n",
       "  <tbody>\n",
       "    <tr>\n",
       "      <th>0</th>\n",
       "      <td>528</td>\n",
       "      <td>0.318182</td>\n",
       "    </tr>\n",
       "    <tr>\n",
       "      <th>1</th>\n",
       "      <td>186</td>\n",
       "      <td>0.655914</td>\n",
       "    </tr>\n",
       "  </tbody>\n",
       "</table>\n",
       "</div>"
      ],
      "text/plain": [
       "           n         p\n",
       "Class_1               \n",
       "0        528  0.318182\n",
       "1        186  0.655914"
      ]
     },
     "execution_count": 42,
     "metadata": {},
     "output_type": "execute_result"
    }
   ],
   "source": [
    "df.groupby('Class_1').agg(\n",
    "    n=('Survived', 'size'),  # Count the number of occurrences (n)\n",
    "    p=('Survived', 'mean')   # Calculate the mean of 'survived' (p)\n",
    ")"
   ]
  },
  {
   "cell_type": "code",
   "execution_count": 43,
   "id": "1ec6ee43",
   "metadata": {},
   "outputs": [
    {
     "data": {
      "text/html": [
       "<div>\n",
       "<style scoped>\n",
       "    .dataframe tbody tr th:only-of-type {\n",
       "        vertical-align: middle;\n",
       "    }\n",
       "\n",
       "    .dataframe tbody tr th {\n",
       "        vertical-align: top;\n",
       "    }\n",
       "\n",
       "    .dataframe thead th {\n",
       "        text-align: right;\n",
       "    }\n",
       "</style>\n",
       "<table border=\"1\" class=\"dataframe\">\n",
       "  <thead>\n",
       "    <tr style=\"text-align: right;\">\n",
       "      <th></th>\n",
       "      <th>n</th>\n",
       "      <th>p</th>\n",
       "    </tr>\n",
       "    <tr>\n",
       "      <th>Class_2</th>\n",
       "      <th></th>\n",
       "      <th></th>\n",
       "    </tr>\n",
       "  </thead>\n",
       "  <tbody>\n",
       "    <tr>\n",
       "      <th>0</th>\n",
       "      <td>541</td>\n",
       "      <td>0.382625</td>\n",
       "    </tr>\n",
       "    <tr>\n",
       "      <th>1</th>\n",
       "      <td>173</td>\n",
       "      <td>0.479769</td>\n",
       "    </tr>\n",
       "  </tbody>\n",
       "</table>\n",
       "</div>"
      ],
      "text/plain": [
       "           n         p\n",
       "Class_2               \n",
       "0        541  0.382625\n",
       "1        173  0.479769"
      ]
     },
     "execution_count": 43,
     "metadata": {},
     "output_type": "execute_result"
    }
   ],
   "source": [
    "df.groupby('Class_2').agg(\n",
    "    n=('Survived', 'size'),  # Count the number of occurrences (n)\n",
    "    p=('Survived', 'mean')   # Calculate the mean of 'survived' (p)\n",
    ")"
   ]
  },
  {
   "cell_type": "code",
   "execution_count": 44,
   "id": "42c25a2d",
   "metadata": {},
   "outputs": [
    {
     "data": {
      "text/html": [
       "<div>\n",
       "<style scoped>\n",
       "    .dataframe tbody tr th:only-of-type {\n",
       "        vertical-align: middle;\n",
       "    }\n",
       "\n",
       "    .dataframe tbody tr th {\n",
       "        vertical-align: top;\n",
       "    }\n",
       "\n",
       "    .dataframe thead th {\n",
       "        text-align: right;\n",
       "    }\n",
       "</style>\n",
       "<table border=\"1\" class=\"dataframe\">\n",
       "  <thead>\n",
       "    <tr style=\"text-align: right;\">\n",
       "      <th></th>\n",
       "      <th>n</th>\n",
       "      <th>p</th>\n",
       "    </tr>\n",
       "    <tr>\n",
       "      <th>Sex</th>\n",
       "      <th></th>\n",
       "      <th></th>\n",
       "    </tr>\n",
       "  </thead>\n",
       "  <tbody>\n",
       "    <tr>\n",
       "      <th>0</th>\n",
       "      <td>453</td>\n",
       "      <td>0.205298</td>\n",
       "    </tr>\n",
       "    <tr>\n",
       "      <th>1</th>\n",
       "      <td>261</td>\n",
       "      <td>0.754789</td>\n",
       "    </tr>\n",
       "  </tbody>\n",
       "</table>\n",
       "</div>"
      ],
      "text/plain": [
       "       n         p\n",
       "Sex               \n",
       "0    453  0.205298\n",
       "1    261  0.754789"
      ]
     },
     "execution_count": 44,
     "metadata": {},
     "output_type": "execute_result"
    }
   ],
   "source": [
    "df.groupby('Sex').agg(\n",
    "    n=('Survived', 'size'),  # Count the number of occurrences (n)\n",
    "    p=('Survived', 'mean')   # Calculate the mean of 'survived' (p)\n",
    ")"
   ]
  },
  {
   "cell_type": "markdown",
   "id": "55352c40",
   "metadata": {},
   "source": [
    "Splitting on female results in two large groups which are fairly homogeneous in terms of survival vs the other splits."
   ]
  },
  {
   "cell_type": "markdown",
   "id": "721c8ef9",
   "metadata": {},
   "source": [
    "Create a decision tree classifier using the variable you have identified. The classifier outputs a classification probability:\n",
    "$$ \\Pr (X=1|V=v)=\\frac{1}{S(V=v)}\\sum_{i\\in S(V=v)} X_i $$\n",
    "\n",
    "where $X$ denotes the survival variable and $V$ denotes the variable you split on. The above just means your outputted probability of survival is the corresponding fraction surviving in the subset corresponding to that particular value of the variable $V$."
   ]
  },
  {
   "cell_type": "code",
   "execution_count": 49,
   "id": "f84afed1",
   "metadata": {},
   "outputs": [],
   "source": [
    "# Define the depth_one_classifier function in Python\n",
    "def depth_one_classifier(female_val, df):\n",
    "    # Group by 'female' and calculate the mean survival probability\n",
    "    grouped = df.groupby('Sex')['Survived'].mean().reset_index()\n",
    "    \n",
    "    # Filter the rows where 'female' matches 'female_val' and get the 'survived' probability\n",
    "    result = grouped[grouped['Sex'] == female_val]['Survived'].values[0]\n",
    "    \n",
    "    return result\n"
   ]
  },
  {
   "cell_type": "code",
   "execution_count": 52,
   "id": "c16866cb",
   "metadata": {},
   "outputs": [
    {
     "name": "stdout",
     "output_type": "stream",
     "text": [
      "Male survival prob: 0.2053. Female survival prob: 0.7548\n"
     ]
    }
   ],
   "source": [
    "male_survival_prob = depth_one_classifier(0, df)\n",
    "female_survival_prob = depth_one_classifier(1, df)\n",
    "\n",
    "print(f\"Male survival prob: {male_survival_prob:.4f}. Female survival prob: {female_survival_prob:.4f}\")"
   ]
  },
  {
   "cell_type": "markdown",
   "id": "a8e549cf",
   "metadata": {},
   "source": [
    "Create a decision tree classifier with depth 2 (i.e. it splits on two variables), where in each step it chooses which variable to split on based on the greatest reduction in entropy.\n",
    "\n",
    "After splitting on female, we are left with two dataframes:"
   ]
  },
  {
   "cell_type": "code",
   "execution_count": 57,
   "id": "835875b4",
   "metadata": {},
   "outputs": [],
   "source": [
    "df_f = df[df['Sex'] == 1]   # Female\n",
    "df_m = df[df['Sex'] == 0]   # Male"
   ]
  },
  {
   "cell_type": "markdown",
   "id": "ede1af1c",
   "metadata": {},
   "source": [
    "Which have associated with them the following entropies for the survival variable."
   ]
  },
  {
   "cell_type": "code",
   "execution_count": 58,
   "id": "2835503a",
   "metadata": {},
   "outputs": [
    {
     "data": {
      "text/plain": [
       "0.5570121625088897"
      ]
     },
     "execution_count": 58,
     "metadata": {},
     "output_type": "execute_result"
    }
   ],
   "source": [
    "## female\n",
    "total_entropy_f = entropy(df_f['Survived'])\n",
    "total_entropy_f"
   ]
  },
  {
   "cell_type": "code",
   "execution_count": 60,
   "id": "6bd5a8f9",
   "metadata": {},
   "outputs": [
    {
     "data": {
      "text/plain": [
       "0.5076598866633676"
      ]
     },
     "execution_count": 60,
     "metadata": {},
     "output_type": "execute_result"
    }
   ],
   "source": [
    "## male\n",
    "total_entropy_m = entropy(df_m['Survived'])\n",
    "total_entropy_m"
   ]
  },
  {
   "cell_type": "markdown",
   "id": "e1ce9fcf",
   "metadata": {},
   "source": [
    "We now consider splitting on another of the remaining variables."
   ]
  },
  {
   "cell_type": "code",
   "execution_count": 63,
   "id": "b55299ab",
   "metadata": {},
   "outputs": [
    {
     "name": "stdout",
     "output_type": "stream",
     "text": [
      "       variable  entropy_reduction\n",
      "0  Age_children          -0.020885\n",
      "1       Age_old          -0.004811\n",
      "2       Class_1          -0.100878\n",
      "3       Class_2          -0.036182\n"
     ]
    }
   ],
   "source": [
    "# Get the column names excluding the first one and excluding 'Sex'\n",
    "vars = [col for col in df.columns[:-1] if col != 'Sex']\n",
    "\n",
    "# Calculate entropy reduction for females\n",
    "Hs_f = []\n",
    "for var in vars:\n",
    "    Hs_f.append(conditional_entropy(var, df_f) - total_entropy_f)\n",
    "\n",
    "# Create a DataFrame for female entropy reduction\n",
    "df_entropy_reduction_f = pd.DataFrame({\n",
    "    'variable': vars,\n",
    "    'entropy_reduction': Hs_f,\n",
    "    'sex': 'female'\n",
    "})\n",
    "\n",
    "# Calculate entropy reduction for males\n",
    "Hs_m = []\n",
    "for var in vars:\n",
    "    Hs_m.append(conditional_entropy(var, df_m) - total_entropy_m)\n",
    "\n",
    "# Create a DataFrame for male entropy reduction\n",
    "df_entropy_reduction_m = pd.DataFrame({\n",
    "    'variable': vars,\n",
    "    'entropy_reduction': Hs_m,\n",
    "    'sex': 'male'\n",
    "})\n",
    "\n",
    "# Combine the DataFrames for both sexes\n",
    "df_both_sexes = pd.concat([df_entropy_reduction_f, df_entropy_reduction_m])\n",
    "\n",
    "# Group by 'variable' and summarize the entropy reduction\n",
    "df_summary = df_both_sexes.groupby('variable').agg(\n",
    "    entropy_reduction=('entropy_reduction', 'sum')\n",
    ").reset_index()\n",
    "\n",
    "# Display the summarized result\n",
    "print(df_summary)"
   ]
  },
  {
   "cell_type": "markdown",
   "id": "e8426e8a",
   "metadata": {},
   "source": [
    "So, we next split on the class_1 variable."
   ]
  },
  {
   "cell_type": "code",
   "execution_count": 68,
   "id": "d6055d6a",
   "metadata": {},
   "outputs": [],
   "source": [
    "def depth_two_classifier(female_val, class_1_val, df):\n",
    "    # Group by 'female' and 'class_1' and calculate the mean of 'survived'\n",
    "    grouped = df.groupby(['Sex', 'Class_1'])['Survived'].mean().reset_index()\n",
    "    \n",
    "    # Filter based on female_val and class_1_val\n",
    "    result = grouped[(grouped['Sex'] == female_val) & (grouped['Class_1'] == class_1_val)]['Survived'].values[0]\n",
    "    \n",
    "    return result\n"
   ]
  },
  {
   "cell_type": "markdown",
   "id": "962ea8c9",
   "metadata": {},
   "source": [
    "Use your classifier to output the probabilities of survival for each (type of) individual in your dataset. Which groups have the highest survival probabilities and the lowest survival probabilities?\n"
   ]
  },
  {
   "cell_type": "code",
   "execution_count": 70,
   "id": "b15971e3",
   "metadata": {},
   "outputs": [
    {
     "data": {
      "text/plain": [
       "0.9647058823529412"
      ]
     },
     "execution_count": 70,
     "metadata": {},
     "output_type": "execute_result"
    }
   ],
   "source": [
    "# female and 1st class\n",
    "depth_two_classifier(female_val=1, class_1_val=1, df=df)"
   ]
  },
  {
   "cell_type": "code",
   "execution_count": 72,
   "id": "997b3186",
   "metadata": {},
   "outputs": [
    {
     "data": {
      "text/plain": [
       "0.6534090909090909"
      ]
     },
     "execution_count": 72,
     "metadata": {},
     "output_type": "execute_result"
    }
   ],
   "source": [
    "# female and other class\n",
    "depth_two_classifier(female_val=1, class_1_val=0, df=df)"
   ]
  },
  {
   "cell_type": "code",
   "execution_count": 75,
   "id": "937b4063",
   "metadata": {},
   "outputs": [
    {
     "data": {
      "text/plain": [
       "0.39603960396039606"
      ]
     },
     "execution_count": 75,
     "metadata": {},
     "output_type": "execute_result"
    }
   ],
   "source": [
    "# male and 1st class\n",
    "depth_two_classifier(female_val=0, class_1_val=1, df=df)"
   ]
  },
  {
   "cell_type": "code",
   "execution_count": 76,
   "id": "a4650d89",
   "metadata": {},
   "outputs": [
    {
     "data": {
      "text/plain": [
       "0.15056818181818182"
      ]
     },
     "execution_count": 76,
     "metadata": {},
     "output_type": "execute_result"
    }
   ],
   "source": [
    "# male and other class\n",
    "depth_two_classifier(female_val=0, class_1_val=0, df=df)"
   ]
  },
  {
   "cell_type": "markdown",
   "id": "36f7f970",
   "metadata": {},
   "source": [
    "Oh dear; being male and from another class results in a low chance of survival whereas female and 1st class is a high chance."
   ]
  },
  {
   "cell_type": "code",
   "execution_count": null,
   "id": "07811d89",
   "metadata": {},
   "outputs": [],
   "source": []
  },
  {
   "cell_type": "code",
   "execution_count": null,
   "id": "3634b594",
   "metadata": {},
   "outputs": [],
   "source": []
  },
  {
   "cell_type": "code",
   "execution_count": null,
   "id": "9c86f14e",
   "metadata": {},
   "outputs": [],
   "source": []
  }
 ],
 "metadata": {
  "kernelspec": {
   "display_name": "Python 3 (ipykernel)",
   "language": "python",
   "name": "python3"
  },
  "language_info": {
   "codemirror_mode": {
    "name": "ipython",
    "version": 3
   },
   "file_extension": ".py",
   "mimetype": "text/x-python",
   "name": "python",
   "nbconvert_exporter": "python",
   "pygments_lexer": "ipython3",
   "version": "3.11.5"
  }
 },
 "nbformat": 4,
 "nbformat_minor": 5
}
