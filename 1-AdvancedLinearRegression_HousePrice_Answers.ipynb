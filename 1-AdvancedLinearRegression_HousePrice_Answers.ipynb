{
 "cells": [
  {
   "cell_type": "markdown",
   "metadata": {},
   "source": [
    "# House price prediction: Advanced, code your own\n"
   ]
  },
  {
   "cell_type": "markdown",
   "metadata": {},
   "source": [
    "In this exercise, we are going to code up our own linear regression model using 1.) least squares and 2.) gradient descent. We will apply to house price prediction using a subset of the [California house price dataset](https://www.kaggle.com/camnugent/california-housing-prices). Our dataset contains 200 observations for housing blocks in California obtained from the 1990 census. The dataset contains columns:\n",
    "\n",
    "1. `longitude`: A measure of how far west a house is; a higher value is farther west\n",
    "\n",
    "2. `latitude`: A measure of how far north a house is; a higher value is farther north\n",
    "\n",
    "3. `housing_median_age`: Median age of a house within a block; a lower number is a newer building\n",
    "\n",
    "4. `total_rooms`: Total number of rooms within a block\n",
    "\n",
    "5. `total_bedrooms`: Total number of bedrooms within a block\n",
    "\n",
    "6. `population`: Total number of people residing within a block\n",
    "\n",
    "7. `households`: Total number of households, a group of people residing within a home unit, for a block\n",
    "\n",
    "8. `median_income`: Median income for households within a block of houses (measured in tens of thousands of US Dollars)\n",
    "\n",
    "9. `median_house_value`: Median house value for households within a block (measured in US Dollars)\n",
    "\n",
    "10. `ocean_proximity`: Location of the house w.r.t ocean/sea\n",
    "\n",
    "In this example, we are going to create a regression model to predict `median_house_value` using only `median_income`."
   ]
  },
  {
   "cell_type": "markdown",
   "metadata": {},
   "source": [
    "Load the file `housing_short.csv` and examine the first few rows."
   ]
  },
  {
   "cell_type": "code",
   "execution_count": 1,
   "metadata": {},
   "outputs": [
    {
     "data": {
      "text/html": [
       "<div>\n",
       "<style scoped>\n",
       "    .dataframe tbody tr th:only-of-type {\n",
       "        vertical-align: middle;\n",
       "    }\n",
       "\n",
       "    .dataframe tbody tr th {\n",
       "        vertical-align: top;\n",
       "    }\n",
       "\n",
       "    .dataframe thead th {\n",
       "        text-align: right;\n",
       "    }\n",
       "</style>\n",
       "<table border=\"1\" class=\"dataframe\">\n",
       "  <thead>\n",
       "    <tr style=\"text-align: right;\">\n",
       "      <th></th>\n",
       "      <th>longitude</th>\n",
       "      <th>latitude</th>\n",
       "      <th>housing_median_age</th>\n",
       "      <th>total_rooms</th>\n",
       "      <th>total_bedrooms</th>\n",
       "      <th>population</th>\n",
       "      <th>households</th>\n",
       "      <th>median_income</th>\n",
       "      <th>median_house_value</th>\n",
       "      <th>ocean_proximity</th>\n",
       "    </tr>\n",
       "  </thead>\n",
       "  <tbody>\n",
       "    <tr>\n",
       "      <th>0</th>\n",
       "      <td>-122.23</td>\n",
       "      <td>37.88</td>\n",
       "      <td>41</td>\n",
       "      <td>880</td>\n",
       "      <td>129</td>\n",
       "      <td>322</td>\n",
       "      <td>126</td>\n",
       "      <td>8.3252</td>\n",
       "      <td>452600</td>\n",
       "      <td>NEAR BAY</td>\n",
       "    </tr>\n",
       "    <tr>\n",
       "      <th>1</th>\n",
       "      <td>-122.22</td>\n",
       "      <td>37.86</td>\n",
       "      <td>21</td>\n",
       "      <td>7099</td>\n",
       "      <td>1106</td>\n",
       "      <td>2401</td>\n",
       "      <td>1138</td>\n",
       "      <td>8.3014</td>\n",
       "      <td>358500</td>\n",
       "      <td>NEAR BAY</td>\n",
       "    </tr>\n",
       "    <tr>\n",
       "      <th>2</th>\n",
       "      <td>-122.24</td>\n",
       "      <td>37.85</td>\n",
       "      <td>52</td>\n",
       "      <td>1467</td>\n",
       "      <td>190</td>\n",
       "      <td>496</td>\n",
       "      <td>177</td>\n",
       "      <td>7.2574</td>\n",
       "      <td>352100</td>\n",
       "      <td>NEAR BAY</td>\n",
       "    </tr>\n",
       "    <tr>\n",
       "      <th>3</th>\n",
       "      <td>-122.25</td>\n",
       "      <td>37.85</td>\n",
       "      <td>52</td>\n",
       "      <td>1274</td>\n",
       "      <td>235</td>\n",
       "      <td>558</td>\n",
       "      <td>219</td>\n",
       "      <td>5.6431</td>\n",
       "      <td>341300</td>\n",
       "      <td>NEAR BAY</td>\n",
       "    </tr>\n",
       "    <tr>\n",
       "      <th>4</th>\n",
       "      <td>-122.25</td>\n",
       "      <td>37.85</td>\n",
       "      <td>52</td>\n",
       "      <td>1627</td>\n",
       "      <td>280</td>\n",
       "      <td>565</td>\n",
       "      <td>259</td>\n",
       "      <td>3.8462</td>\n",
       "      <td>342200</td>\n",
       "      <td>NEAR BAY</td>\n",
       "    </tr>\n",
       "    <tr>\n",
       "      <th>...</th>\n",
       "      <td>...</td>\n",
       "      <td>...</td>\n",
       "      <td>...</td>\n",
       "      <td>...</td>\n",
       "      <td>...</td>\n",
       "      <td>...</td>\n",
       "      <td>...</td>\n",
       "      <td>...</td>\n",
       "      <td>...</td>\n",
       "      <td>...</td>\n",
       "    </tr>\n",
       "    <tr>\n",
       "      <th>195</th>\n",
       "      <td>-122.22</td>\n",
       "      <td>37.77</td>\n",
       "      <td>52</td>\n",
       "      <td>391</td>\n",
       "      <td>128</td>\n",
       "      <td>520</td>\n",
       "      <td>138</td>\n",
       "      <td>1.6471</td>\n",
       "      <td>95000</td>\n",
       "      <td>NEAR BAY</td>\n",
       "    </tr>\n",
       "    <tr>\n",
       "      <th>196</th>\n",
       "      <td>-122.22</td>\n",
       "      <td>37.77</td>\n",
       "      <td>52</td>\n",
       "      <td>1137</td>\n",
       "      <td>301</td>\n",
       "      <td>866</td>\n",
       "      <td>259</td>\n",
       "      <td>2.5900</td>\n",
       "      <td>96400</td>\n",
       "      <td>NEAR BAY</td>\n",
       "    </tr>\n",
       "    <tr>\n",
       "      <th>197</th>\n",
       "      <td>-122.23</td>\n",
       "      <td>37.77</td>\n",
       "      <td>52</td>\n",
       "      <td>769</td>\n",
       "      <td>206</td>\n",
       "      <td>612</td>\n",
       "      <td>183</td>\n",
       "      <td>2.5700</td>\n",
       "      <td>72000</td>\n",
       "      <td>NEAR BAY</td>\n",
       "    </tr>\n",
       "    <tr>\n",
       "      <th>198</th>\n",
       "      <td>-122.23</td>\n",
       "      <td>37.78</td>\n",
       "      <td>52</td>\n",
       "      <td>472</td>\n",
       "      <td>146</td>\n",
       "      <td>415</td>\n",
       "      <td>126</td>\n",
       "      <td>2.6429</td>\n",
       "      <td>71300</td>\n",
       "      <td>NEAR BAY</td>\n",
       "    </tr>\n",
       "    <tr>\n",
       "      <th>199</th>\n",
       "      <td>-122.23</td>\n",
       "      <td>37.78</td>\n",
       "      <td>52</td>\n",
       "      <td>862</td>\n",
       "      <td>215</td>\n",
       "      <td>994</td>\n",
       "      <td>213</td>\n",
       "      <td>3.0257</td>\n",
       "      <td>80800</td>\n",
       "      <td>NEAR BAY</td>\n",
       "    </tr>\n",
       "  </tbody>\n",
       "</table>\n",
       "<p>200 rows × 10 columns</p>\n",
       "</div>"
      ],
      "text/plain": [
       "     longitude  latitude  housing_median_age  total_rooms  total_bedrooms  \\\n",
       "0      -122.23     37.88                  41          880             129   \n",
       "1      -122.22     37.86                  21         7099            1106   \n",
       "2      -122.24     37.85                  52         1467             190   \n",
       "3      -122.25     37.85                  52         1274             235   \n",
       "4      -122.25     37.85                  52         1627             280   \n",
       "..         ...       ...                 ...          ...             ...   \n",
       "195    -122.22     37.77                  52          391             128   \n",
       "196    -122.22     37.77                  52         1137             301   \n",
       "197    -122.23     37.77                  52          769             206   \n",
       "198    -122.23     37.78                  52          472             146   \n",
       "199    -122.23     37.78                  52          862             215   \n",
       "\n",
       "     population  households  median_income  median_house_value ocean_proximity  \n",
       "0           322         126         8.3252              452600        NEAR BAY  \n",
       "1          2401        1138         8.3014              358500        NEAR BAY  \n",
       "2           496         177         7.2574              352100        NEAR BAY  \n",
       "3           558         219         5.6431              341300        NEAR BAY  \n",
       "4           565         259         3.8462              342200        NEAR BAY  \n",
       "..          ...         ...            ...                 ...             ...  \n",
       "195         520         138         1.6471               95000        NEAR BAY  \n",
       "196         866         259         2.5900               96400        NEAR BAY  \n",
       "197         612         183         2.5700               72000        NEAR BAY  \n",
       "198         415         126         2.6429               71300        NEAR BAY  \n",
       "199         994         213         3.0257               80800        NEAR BAY  \n",
       "\n",
       "[200 rows x 10 columns]"
      ]
     },
     "execution_count": 1,
     "metadata": {},
     "output_type": "execute_result"
    }
   ],
   "source": [
    "import pandas as pd\n",
    "import numpy as np\n",
    "import matplotlib.pyplot as plt\n",
    "\n",
    "df = pd.read_csv(\"housing_short.csv\")\n",
    "df"
   ]
  },
  {
   "cell_type": "code",
   "execution_count": 2,
   "metadata": {},
   "outputs": [
    {
     "data": {
      "text/plain": [
       "Index(['longitude', 'latitude', 'housing_median_age', 'total_rooms',\n",
       "       'total_bedrooms', 'population', 'households', 'median_income',\n",
       "       'median_house_value', 'ocean_proximity'],\n",
       "      dtype='object')"
      ]
     },
     "execution_count": 2,
     "metadata": {},
     "output_type": "execute_result"
    }
   ],
   "source": [
    "df.columns"
   ]
  },
  {
   "cell_type": "markdown",
   "metadata": {},
   "source": [
    "Our goal is to predict `median_house_value`. This will be our dependent variable, $y$. Pick another variable that you think will be a useful predictor of house value, that we will use as our dependent variable, $x$. First, we should check if these variables appear correlated by plotting them."
   ]
  },
  {
   "cell_type": "markdown",
   "metadata": {},
   "source": [
    "We will pick `median_income` in this example."
   ]
  },
  {
   "cell_type": "code",
   "execution_count": 3,
   "metadata": {},
   "outputs": [
    {
     "data": {
      "image/png": "[encoded data removed]",
      "text/plain": [
       "<Figure size 640x480 with 1 Axes>"
      ]
     },
     "metadata": {},
     "output_type": "display_data"
    }
   ],
   "source": [
    "plt.scatter(df[\"median_income\"], df[\"median_house_value\"])\n",
    "plt.xlabel(\"$x$: median_income\")\n",
    "plt.ylabel(\"$y$: median_house_value\")\n",
    "plt.show()"
   ]
  },
  {
   "cell_type": "markdown",
   "metadata": {},
   "source": [
    "Does your choice of variable seem suitable for linear regression? "
   ]
  },
  {
   "cell_type": "markdown",
   "metadata": {},
   "source": [
    "## Linear regression\n",
    "Split the dataset into a suitable training, validation and test set. "
   ]
  },
  {
   "cell_type": "markdown",
   "metadata": {},
   "source": [
    "We will use a split of 70% training, 30% validation and 20% test data. Select our training set comprising the first 140 rows of the dataset, a validation set comprising rows 141-180 and a testing set comprising rows 180-200. (Remember python indices start from 0)."
   ]
  },
  {
   "cell_type": "code",
   "execution_count": 4,
   "metadata": {},
   "outputs": [],
   "source": [
    "training = df.iloc[:140, :]\n",
    "validation = df.iloc[140:180, :]\n",
    "testing = df.iloc[180:, :]"
   ]
  },
  {
   "cell_type": "markdown",
   "metadata": {},
   "source": [
    "Create a linear regression model to predict median house value from median income using the training set. We provide code for both R and Python. You can use a package or code this from scratch. "
   ]
  },
  {
   "cell_type": "markdown",
   "metadata": {},
   "source": [
    "## From scratch solutions\n",
    "This notebook includes the from scratch solutions using \n",
    "1. Least squares\n",
    "2. Gradient descent \n",
    "3. Stochastic gradient descent. \n",
    "\n",
    "We will also compare these to the sklearn and pytorch implementations."
   ]
  },
  {
   "cell_type": "markdown",
   "metadata": {},
   "source": [
    "### Preprocessing and setup\n",
    "Get $(X,y)$ arrays and normalise them."
   ]
  },
  {
   "cell_type": "code",
   "execution_count": 5,
   "metadata": {},
   "outputs": [
    {
     "data": {
      "text/plain": [
       "((140, 1), (140, 1))"
      ]
     },
     "execution_count": 5,
     "metadata": {},
     "output_type": "execute_result"
    }
   ],
   "source": [
    "# assuming that training set is a pandas dataframe\n",
    "X = training[\"median_income\"]\n",
    "y = training[\"median_house_value\"]\n",
    "\n",
    "X = X.iloc[:, ].values.reshape(-1, 1)      # This reshapes the array so the inputs are the correct size (N, 1)\n",
    "y = y.iloc[:, ].values.reshape(-1, 1)      \n",
    "X.shape, y.shape"
   ]
  },
  {
   "cell_type": "code",
   "execution_count": 6,
   "metadata": {},
   "outputs": [],
   "source": [
    "from sklearn.preprocessing import StandardScaler\n",
    "\n",
    "scaler_X = StandardScaler()\n",
    "scaler_X.fit(X)\n",
    "scaler_y = StandardScaler()\n",
    "scaler_y.fit(y)\n",
    "X_scaled = scaler_X.transform(X)\n",
    "y_scaled = scaler_y.transform(y)\n"
   ]
  },
  {
   "cell_type": "markdown",
   "metadata": {},
   "source": [
    "## Least squares"
   ]
  },
  {
   "cell_type": "markdown",
   "metadata": {},
   "source": [
    "Our linear regression equation is\n",
    "$$ y = \\beta_0 + \\beta_1 x_1$$\n",
    "or in the matrix formulation: \n",
    "$$\\mathbf{y} = \\beta \\mathbf{X}$$\n",
    "We have $N$ data pairs of inputs and outputs, which we will index with subscript $i$, i.e., ${\\mathbf{X}_i, \\mathbf{y}_i}$ where $i=1, \\cdots, N$. We use this linear model to make predictions for $\\mathbf{y}_i$. The residual error from our linear model is the difference between a prediction and the true data, i.e., $|\\mathbf{y}_i - \\beta \\mathbf{X_i}|$.\n",
    "We want to find $\\beta$ that minimises the residual sum of squares over the dataset, i.e.,\n",
    "$$\\arg \\min_\\beta \\{ \\sum_{i=1}^{N} (\\mathbf{y}_i - \\beta \\mathbf{X}_i)^2 \\}$$ \n",
    "We will call this term inside the curly brackets our Loss function, $L$. "
   ]
  },
  {
   "cell_type": "markdown",
   "metadata": {},
   "source": [
    "To minimise this, take the gradient with respect to $\\beta$ and set it to zero\n",
    "$$\\frac{dL}{d\\beta}= \\sum_{i=1}^N (-2 \\mathbf{X}_i^T \\mathbf{y}_i + 2 \\beta \\mathbf{X}_i^T \\mathbf{X}_i) = 0 $$\n",
    "$$ \\hat{\\beta} = (\\mathbf{X}^T \\mathbf{X})^{-1} \\cdot \\mathbf{X}^T \\mathbf{y} $$\n",
    "This is the least squares estimate. \n"
   ]
  },
  {
   "cell_type": "markdown",
   "metadata": {},
   "source": [
    "Calculate $\\beta$ "
   ]
  },
  {
   "cell_type": "code",
   "execution_count": 7,
   "metadata": {},
   "outputs": [
    {
     "data": {
      "text/plain": [
       "(140, 2)"
      ]
     },
     "execution_count": 7,
     "metadata": {},
     "output_type": "execute_result"
    }
   ],
   "source": [
    "# For the matrix formulation, add a row for the intercept\n",
    "intercept = np.ones_like(X_scaled)\n",
    "X_mat = np.hstack((intercept, X_scaled))\n",
    "X_mat.shape"
   ]
  },
  {
   "cell_type": "code",
   "execution_count": 8,
   "metadata": {},
   "outputs": [
    {
     "data": {
      "text/plain": [
       "array([[-2.39738386e-16],\n",
       "       [ 8.32224993e-01]])"
      ]
     },
     "execution_count": 8,
     "metadata": {},
     "output_type": "execute_result"
    }
   ],
   "source": [
    "beta = np.dot(np.linalg.inv(X_mat.T @ X_mat), (X_mat.T @ y_scaled))\n",
    "beta"
   ]
  },
  {
   "cell_type": "code",
   "execution_count": 9,
   "metadata": {},
   "outputs": [],
   "source": [
    "intercept_LS = beta[0, 0]\n",
    "coefficient_LS = beta[1, 0]"
   ]
  },
  {
   "cell_type": "code",
   "execution_count": 10,
   "metadata": {},
   "outputs": [
    {
     "name": "stdout",
     "output_type": "stream",
     "text": [
      "Least squares estimate: intercept -0.0000, coefficient 0.8322\n"
     ]
    }
   ],
   "source": [
    "print(f\"Least squares estimate: intercept {intercept_LS:.4f}, coefficient {coefficient_LS:.4f}\")"
   ]
  },
  {
   "cell_type": "markdown",
   "metadata": {},
   "source": [
    "## Gradient descent\n",
    "Instead of analytically computing the gradient, we can also use the gradient descent algorithm to estimate $\\hat{\\beta}$.\n",
    "\n",
    "$$ \\beta' = \\beta - \\alpha \\nabla L $$\n",
    "$\\alpha$ is called the learning rate and is usually a small number. We can start with 0.01.\n",
    "\n",
    "1. Start with a guess for $\\hat{\\beta}$\n",
    "2. Compute $\\hat{\\mathbf{y}}=\\hat{\\beta} \\mathbf{X}$. \n",
    "The mean squared error loss is $L=\\frac{1}{N} \\sum_{i=1}^{N}{(\\hat{\\mathbf{y}}_i - \\mathbf{y}_i)^2}=\\frac{1}{N} \\sum_{i=1}^{N}{(\\hat{\\beta} \\mathbf{X}_i - \\mathbf{y}_i)^2}$\n",
    "3. Compute the direction of the gradient of the loss with respect to $\\beta$. This is\n",
    "$$ \\nabla L = \\frac{1}{N} \\sum_{i=1}^{N} 2(\\beta \\mathbf{X}^T_i \\mathbf{X}_i - \\mathbf{X}^T_i \\mathbf{y}_i) = \\frac{1}{N} 2 \\mathbf{X}^T \\cdot (\\hat{\\mathbf{y}} - \\mathbf{y})$$\n",
    "4. Update our estimate of $\\beta$ by taking the step in the direction of reducing the gradient.\n",
    "5. Repeat steps 2-4. until our estimate of $\\beta$ converges."
   ]
  },
  {
   "cell_type": "code",
   "execution_count": 15,
   "metadata": {},
   "outputs": [],
   "source": [
    "N = X.shape[0]"
   ]
  },
  {
   "cell_type": "code",
   "execution_count": 16,
   "metadata": {},
   "outputs": [
    {
     "name": "stdout",
     "output_type": "stream",
     "text": [
      "[[6.51226763e-11]\n",
      " [8.32224992e-01]]\n"
     ]
    }
   ],
   "source": [
    "alpha = 0.1\n",
    "# store intercept and coefficients for plotting\n",
    "intercepts = []\n",
    "coefficients = []\n",
    "losses = []\n",
    "\n",
    "\n",
    "# initialise beta_hat randomly\n",
    "beta_hat = np.random.rand(2, 1)\n",
    "\n",
    "for t in range(100):\n",
    "    y_hat = X_mat @ beta_hat \n",
    "    # compute direction of gradient\n",
    "    d_L =  2*np.dot(X_mat.T, y_hat - y_scaled)/N\n",
    "    \n",
    "    # update\n",
    "    beta_hat = beta_hat - alpha * d_L\n",
    "    \n",
    "    # store\n",
    "    intercepts.append(beta_hat[0,0])\n",
    "    coefficients.append(beta_hat[1,0])\n",
    "    losses.append(np.sum((y_hat - y_scaled)**2))\n",
    "\n",
    "\n",
    "    \n",
    "print(beta_hat)\n"
   ]
  },
  {
   "cell_type": "code",
   "execution_count": 17,
   "metadata": {},
   "outputs": [
    {
     "data": {
      "text/plain": [
       "Text(0.5, 1.0, 'MSE')"
      ]
     },
     "execution_count": 17,
     "metadata": {},
     "output_type": "execute_result"
    },
    {
     "data": {
      "image/png": "[encoded data removed]",
      "text/plain": [
       "<Figure size 1000x300 with 3 Axes>"
      ]
     },
     "metadata": {},
     "output_type": "display_data"
    }
   ],
   "source": [
    "fig, axs = plt.subplots(1, 3, figsize=(10, 3))\n",
    "axs[0].plot(coefficients)\n",
    "axs[0].set_title(\"Coefficient\")\n",
    "\n",
    "axs[1].plot(intercepts)\n",
    "axs[1].set_title(\"Intercept\")\n",
    "\n",
    "axs[2].plot(losses)\n",
    "axs[2].set_title(\"MSE\")"
   ]
  },
  {
   "cell_type": "markdown",
   "metadata": {},
   "source": [
    "Try a different values for $\\alpha$. What happens?"
   ]
  },
  {
   "cell_type": "markdown",
   "metadata": {},
   "source": [
    "## Stochastic gradient descent\n",
    "\n",
    "With a relatively small dataset, we can estimate the gradient over the entire dataset. But when we have larger datasets, this becomes computationally expensive. Stochatic gradient descent is a stochastic approximation of gradient descent optimization. It replaces the true gradient calculated from the entire data set with an estimate of it, calculated from a randomly selected subset of the data."
   ]
  },
  {
   "cell_type": "code",
   "execution_count": 18,
   "metadata": {},
   "outputs": [
    {
     "data": {
      "text/plain": [
       "array([ 58,  77, 119,  70,  84,  18,  79,  49,  89, 138,  36,  45,  47,\n",
       "        52,  96,  44, 108,  61,   8,  73,  86, 137,  99,  22,   6,  34,\n",
       "       100,   4,  91,   7, 121,  37,  68,  75,   3,   2,  81, 115,   0,\n",
       "        83, 120,  24,  16, 102,  50, 104, 103,  31,  93, 122, 101,  74,\n",
       "        32,  21,  46,  23,  41,  14,  28,  11,  85, 125,  88, 127, 114,\n",
       "        27,  51,  55, 130,  90,  33, 128,  38, 124, 123,  39,  19, 136,\n",
       "        17, 117, 113,  65,  62, 129,   5,  60,  66,  94,  98,  71,  20,\n",
       "        92, 105,   9,  95, 131,   1,  29,  57,  43,  25,  82, 139, 111,\n",
       "       126, 109, 118,  30,  64,  35, 133,  76,  69,  12,  13,  56,  72,\n",
       "        15, 135,  87, 106,  59,  53,  10, 110, 134,  40, 112,  54, 116,\n",
       "        97,  78,  42,  48, 107, 132,  63,  80,  67,  26])"
      ]
     },
     "execution_count": 18,
     "metadata": {},
     "output_type": "execute_result"
    }
   ],
   "source": [
    "X_mat.shape\n",
    "batch_size = 20\n",
    "N = X_mat.shape[0]\n",
    "data_inds = np.arange(N)\n",
    "np.random.shuffle(data_inds)\n",
    "data_inds"
   ]
  },
  {
   "cell_type": "code",
   "execution_count": 21,
   "metadata": {},
   "outputs": [
    {
     "name": "stdout",
     "output_type": "stream",
     "text": [
      "[[7.61568983e-04]\n",
      " [8.33002867e-01]]\n"
     ]
    }
   ],
   "source": [
    "alpha = 0.1\n",
    "# store intercept and coefficients for plotting\n",
    "intercepts = []\n",
    "coefficients = []\n",
    "losses = []\n",
    "\n",
    "\n",
    "# initialise beta_hat randomly\n",
    "beta_hat = np.random.rand(2, 1)\n",
    "\n",
    "for t in range(100):\n",
    "    np.random.shuffle(data_inds)\n",
    "    X_shuffled = X_mat[data_inds]\n",
    "    y_shuffled = y_scaled[data_inds]\n",
    "    for b in range(N//batch_size):\n",
    "        X_batch = X_shuffled[b*batch_size:(b+1)*batch_size]\n",
    "        y_batch = y_shuffled[b*batch_size:(b+1)*batch_size]\n",
    "    \n",
    "        y_hat = X_batch @ beta_hat \n",
    "                \n",
    "        # compute direction of gradient\n",
    "        d_L =  2*np.dot(X_batch.T, y_hat - y_batch)/N\n",
    "    \n",
    "        # update\n",
    "        beta_hat = beta_hat - alpha * d_L\n",
    "    \n",
    "        # store\n",
    "        intercepts.append(beta_hat[0,0])\n",
    "        coefficients.append(beta_hat[1,0])\n",
    "        losses.append(np.sum((y_hat - y_batch)**2))\n",
    "\n",
    "\n",
    "    \n",
    "print(beta_hat)\n"
   ]
  },
  {
   "cell_type": "code",
   "execution_count": 22,
   "metadata": {},
   "outputs": [
    {
     "data": {
      "text/plain": [
       "Text(0.5, 1.0, 'MSE')"
      ]
     },
     "execution_count": 22,
     "metadata": {},
     "output_type": "execute_result"
    },
    {
     "data": {
      "image/png": "[encoded data removed]",
      "text/plain": [
       "<Figure size 1000x300 with 3 Axes>"
      ]
     },
     "metadata": {},
     "output_type": "display_data"
    }
   ],
   "source": [
    "fig, axs = plt.subplots(1, 3, figsize=(10, 3))\n",
    "axs[0].plot(coefficients)\n",
    "axs[0].set_title(\"Coefficient\")\n",
    "\n",
    "axs[1].plot(intercepts)\n",
    "axs[1].set_title(\"Intercept\")\n",
    "\n",
    "axs[2].plot(losses)\n",
    "axs[2].set_title(\"MSE\")"
   ]
  },
  {
   "cell_type": "markdown",
   "metadata": {},
   "source": [
    "### Scikit-learn solution\n",
    "Compare your results to the sklearn solution `sklearn.linear_model.LinearRegression()`. See docs (link). "
   ]
  },
  {
   "cell_type": "code",
   "execution_count": 23,
   "metadata": {},
   "outputs": [],
   "source": [
    "from sklearn.preprocessing import StandardScaler\n",
    "\n",
    "scaler_X = StandardScaler()\n",
    "scaler_X.fit(X)\n",
    "scaler_y = StandardScaler()\n",
    "scaler_y.fit(y)\n",
    "X_scaled = scaler_X.transform(X)\n",
    "y_scaled = scaler_y.transform(y)\n"
   ]
  },
  {
   "cell_type": "code",
   "execution_count": 24,
   "metadata": {},
   "outputs": [
    {
     "name": "stdout",
     "output_type": "stream",
     "text": [
      "sklearn estimate: intercept -0.0000, coefficient 0.8322\n"
     ]
    }
   ],
   "source": [
    "from sklearn import linear_model\n",
    "reg = linear_model.LinearRegression()\n",
    "reg.fit(X_scaled, y_scaled)\n",
    "\n",
    "# print coefficients of model\n",
    "coefficient_SK = reg.coef_[0,0]\n",
    "intercept_SK = reg.intercept_[0]\n",
    "print(f\"sklearn estimate: intercept {intercept_SK:.4f}, coefficient {coefficient_SK:.4f}\")"
   ]
  },
  {
   "cell_type": "markdown",
   "metadata": {},
   "source": [
    "Do you get the same results?"
   ]
  },
  {
   "cell_type": "code",
   "execution_count": null,
   "metadata": {},
   "outputs": [],
   "source": []
  },
  {
   "cell_type": "code",
   "execution_count": null,
   "metadata": {},
   "outputs": [],
   "source": []
  },
  {
   "cell_type": "markdown",
   "metadata": {},
   "source": [
    "## Pytorch solution\n",
    "Can you also use a pytorch implementation of linear regression? Explore different learning rates and see how quickly your parameters converge\n",
    "          \n"
   ]
  },
  {
   "cell_type": "code",
   "execution_count": 25,
   "metadata": {},
   "outputs": [],
   "source": [
    "import torch\n",
    "linear_layer = torch.nn.Linear(in_features=1, out_features=1)\n",
    "optimiser = torch.optim.SGD(params = linear_layer.parameters(), lr=0.1)\n",
    "loss_function = torch.nn.MSELoss()\n"
   ]
  },
  {
   "cell_type": "markdown",
   "metadata": {},
   "source": [
    "Check parameters - there should be two: one for the coefficient/weight and one for the intercept/bias"
   ]
  },
  {
   "cell_type": "code",
   "execution_count": 26,
   "metadata": {},
   "outputs": [
    {
     "name": "stdout",
     "output_type": "stream",
     "text": [
      "Parameter containing:\n",
      "tensor([[-0.9522]], requires_grad=True)\n",
      "Parameter containing:\n",
      "tensor([-0.8182], requires_grad=True)\n"
     ]
    }
   ],
   "source": [
    "for p in linear_layer.parameters():\n",
    "    print(p)"
   ]
  },
  {
   "cell_type": "code",
   "execution_count": 27,
   "metadata": {},
   "outputs": [],
   "source": [
    "X_torch = torch.tensor(X_scaled, dtype=torch.float32)\n",
    "y_torch = torch.tensor(y_scaled, dtype=torch.float32)"
   ]
  },
  {
   "cell_type": "code",
   "execution_count": 28,
   "metadata": {},
   "outputs": [],
   "source": [
    "# Store parameters for plotting \n",
    "coefficients = []\n",
    "intercepts = []\n",
    "losses = []\n",
    "for iteration in range(100):\n",
    "    optimiser.zero_grad()\n",
    "    pred = linear_layer(X_torch)\n",
    "    loss = loss_function(pred, y_torch)\n",
    "    loss.backward()\n",
    "    \n",
    "    for p, param in enumerate(linear_layer.parameters()):\n",
    "        if p == 0:\n",
    "            coefficients.append(param.item())\n",
    "        elif p==1:\n",
    "            intercepts.append(param.item())\n",
    "            \n",
    "    losses.append(loss.item())\n",
    "\n",
    "    # Update optimiser\n",
    "    optimiser.step()\n"
   ]
  },
  {
   "cell_type": "code",
   "execution_count": 29,
   "metadata": {},
   "outputs": [
    {
     "name": "stdout",
     "output_type": "stream",
     "text": [
      "Parameter containing:\n",
      "tensor([[0.8322]], requires_grad=True)\n",
      "Parameter containing:\n",
      "tensor([-1.4359e-08], requires_grad=True)\n"
     ]
    }
   ],
   "source": [
    "for p in linear_layer.parameters():\n",
    "    print(p)"
   ]
  },
  {
   "cell_type": "code",
   "execution_count": 30,
   "metadata": {},
   "outputs": [
    {
     "data": {
      "text/plain": [
       "Text(0.5, 1.0, 'MSE')"
      ]
     },
     "execution_count": 30,
     "metadata": {},
     "output_type": "execute_result"
    },
    {
     "data": {
      "image/png": "[encoded data removed]",
      "text/plain": [
       "<Figure size 1000x300 with 3 Axes>"
      ]
     },
     "metadata": {},
     "output_type": "display_data"
    }
   ],
   "source": [
    "fig, axs = plt.subplots(1, 3, figsize=(10, 3))\n",
    "axs[0].plot(coefficients)\n",
    "axs[0].set_title(\"Coefficient\")\n",
    "\n",
    "axs[1].plot(intercepts)\n",
    "axs[1].set_title(\"Intercept\")\n",
    "\n",
    "axs[2].plot(losses)\n",
    "axs[2].set_title(\"MSE\")"
   ]
  },
  {
   "cell_type": "code",
   "execution_count": null,
   "metadata": {},
   "outputs": [],
   "source": []
  },
  {
   "cell_type": "code",
   "execution_count": null,
   "metadata": {},
   "outputs": [],
   "source": []
  },
  {
   "cell_type": "code",
   "execution_count": null,
   "metadata": {},
   "outputs": [],
   "source": []
  },
  {
   "cell_type": "code",
   "execution_count": null,
   "metadata": {},
   "outputs": [],
   "source": []
  },
  {
   "cell_type": "code",
   "execution_count": null,
   "metadata": {},
   "outputs": [],
   "source": []
  }
 ],
 "metadata": {
  "kernelspec": {
   "display_name": "Python 3 (ipykernel)",
   "language": "python",
   "name": "python3"
  },
  "language_info": {
   "codemirror_mode": {
    "name": "ipython",
    "version": 3
   },
   "file_extension": ".py",
   "mimetype": "text/x-python",
   "name": "python",
   "nbconvert_exporter": "python",
   "pygments_lexer": "ipython3",
   "version": "3.11.5"
  }
 },
 "nbformat": 4,
 "nbformat_minor": 2
}
