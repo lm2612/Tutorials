{
 "cells": [
  {
   "cell_type": "markdown",
   "metadata": {},
   "source": [
    "# House price prediction"
   ]
  },
  {
   "cell_type": "markdown",
   "metadata": {},
   "source": [
    "On Tuesday, we used linear regression to predict house prices of the [California house price dataset](https://www.kaggle.com/camnugent/california-housing-prices). Our dataset contains 200 observations for housing blocks in California obtained from the 1990 census. The dataset contains columns:\n",
    "\n",
    "1. `longitude`: A measure of how far west a house is; a higher value is farther west\n",
    "\n",
    "2. `latitude`: A measure of how far north a house is; a higher value is farther north\n",
    "\n",
    "3. `housing_median_age`: Median age of a house within a block; a lower number is a newer building\n",
    "\n",
    "4. `total_rooms`: Total number of rooms within a block\n",
    "\n",
    "5. `total_bedrooms`: Total number of bedrooms within a block\n",
    "\n",
    "6. `population`: Total number of people residing within a block\n",
    "\n",
    "7. `households`: Total number of households, a group of people residing within a home unit, for a block\n",
    "\n",
    "8. `median_income`: Median income for households within a block of houses (measured in tens of thousands of US Dollars)\n",
    "\n",
    "9. `median_house_value`: Median house value for households within a block (measured in US Dollars)\n",
    "\n",
    "10. `ocean_proximity`: Location of the house w.r.t ocean/sea\n",
    "\n",
    "Previously, we used intuition to guess what input variables would be suitable predictors. In this example, we are going to  use all the variables available and to predict `median_house_value`."
   ]
  },
  {
   "cell_type": "markdown",
   "metadata": {},
   "source": [
    "You must be on google colab for this tutorial - otherwise you will not be able to open the dataset. First, import the needed modules, we will be using `torch` for building neural networks (link). Load the file `sample_data/california_housing_train.csv`."
   ]
  },
  {
   "cell_type": "code",
   "execution_count": 1,
   "metadata": {},
   "outputs": [
    {
     "data": {
      "text/html": [
       "<div>\n",
       "<style scoped>\n",
       "    .dataframe tbody tr th:only-of-type {\n",
       "        vertical-align: middle;\n",
       "    }\n",
       "\n",
       "    .dataframe tbody tr th {\n",
       "        vertical-align: top;\n",
       "    }\n",
       "\n",
       "    .dataframe thead th {\n",
       "        text-align: right;\n",
       "    }\n",
       "</style>\n",
       "<table border=\"1\" class=\"dataframe\">\n",
       "  <thead>\n",
       "    <tr style=\"text-align: right;\">\n",
       "      <th></th>\n",
       "      <th>longitude</th>\n",
       "      <th>latitude</th>\n",
       "      <th>housing_median_age</th>\n",
       "      <th>total_rooms</th>\n",
       "      <th>total_bedrooms</th>\n",
       "      <th>population</th>\n",
       "      <th>households</th>\n",
       "      <th>median_income</th>\n",
       "      <th>median_house_value</th>\n",
       "      <th>ocean_proximity</th>\n",
       "    </tr>\n",
       "  </thead>\n",
       "  <tbody>\n",
       "    <tr>\n",
       "      <th>0</th>\n",
       "      <td>-122.23</td>\n",
       "      <td>37.88</td>\n",
       "      <td>41.0</td>\n",
       "      <td>880.0</td>\n",
       "      <td>129.0</td>\n",
       "      <td>322.0</td>\n",
       "      <td>126.0</td>\n",
       "      <td>8.3252</td>\n",
       "      <td>452600.0</td>\n",
       "      <td>NEAR BAY</td>\n",
       "    </tr>\n",
       "    <tr>\n",
       "      <th>1</th>\n",
       "      <td>-122.22</td>\n",
       "      <td>37.86</td>\n",
       "      <td>21.0</td>\n",
       "      <td>7099.0</td>\n",
       "      <td>1106.0</td>\n",
       "      <td>2401.0</td>\n",
       "      <td>1138.0</td>\n",
       "      <td>8.3014</td>\n",
       "      <td>358500.0</td>\n",
       "      <td>NEAR BAY</td>\n",
       "    </tr>\n",
       "    <tr>\n",
       "      <th>2</th>\n",
       "      <td>-122.24</td>\n",
       "      <td>37.85</td>\n",
       "      <td>52.0</td>\n",
       "      <td>1467.0</td>\n",
       "      <td>190.0</td>\n",
       "      <td>496.0</td>\n",
       "      <td>177.0</td>\n",
       "      <td>7.2574</td>\n",
       "      <td>352100.0</td>\n",
       "      <td>NEAR BAY</td>\n",
       "    </tr>\n",
       "    <tr>\n",
       "      <th>3</th>\n",
       "      <td>-122.25</td>\n",
       "      <td>37.85</td>\n",
       "      <td>52.0</td>\n",
       "      <td>1274.0</td>\n",
       "      <td>235.0</td>\n",
       "      <td>558.0</td>\n",
       "      <td>219.0</td>\n",
       "      <td>5.6431</td>\n",
       "      <td>341300.0</td>\n",
       "      <td>NEAR BAY</td>\n",
       "    </tr>\n",
       "    <tr>\n",
       "      <th>4</th>\n",
       "      <td>-122.25</td>\n",
       "      <td>37.85</td>\n",
       "      <td>52.0</td>\n",
       "      <td>1627.0</td>\n",
       "      <td>280.0</td>\n",
       "      <td>565.0</td>\n",
       "      <td>259.0</td>\n",
       "      <td>3.8462</td>\n",
       "      <td>342200.0</td>\n",
       "      <td>NEAR BAY</td>\n",
       "    </tr>\n",
       "  </tbody>\n",
       "</table>\n",
       "</div>"
      ],
      "text/plain": [
       "   longitude  latitude  housing_median_age  total_rooms  total_bedrooms  \\\n",
       "0    -122.23     37.88                41.0        880.0           129.0   \n",
       "1    -122.22     37.86                21.0       7099.0          1106.0   \n",
       "2    -122.24     37.85                52.0       1467.0           190.0   \n",
       "3    -122.25     37.85                52.0       1274.0           235.0   \n",
       "4    -122.25     37.85                52.0       1627.0           280.0   \n",
       "\n",
       "   population  households  median_income  median_house_value ocean_proximity  \n",
       "0       322.0       126.0         8.3252            452600.0        NEAR BAY  \n",
       "1      2401.0      1138.0         8.3014            358500.0        NEAR BAY  \n",
       "2       496.0       177.0         7.2574            352100.0        NEAR BAY  \n",
       "3       558.0       219.0         5.6431            341300.0        NEAR BAY  \n",
       "4       565.0       259.0         3.8462            342200.0        NEAR BAY  "
      ]
     },
     "execution_count": 1,
     "metadata": {},
     "output_type": "execute_result"
    }
   ],
   "source": [
    "import pandas as pd\n",
    "import numpy as np\n",
    "import torch\n",
    "import matplotlib.pyplot as plt\n",
    "from sklearn.utils import shuffle\n",
    "\n",
    "df = pd.read_csv(\"sample_data/california_housing_train.csv\")\n",
    "df.head()"
   ]
  },
  {
   "cell_type": "markdown",
   "metadata": {},
   "source": [
    "Clean up the data and split it into training and validation"
   ]
  },
  {
   "cell_type": "code",
   "execution_count": 2,
   "metadata": {},
   "outputs": [
    {
     "data": {
      "text/plain": [
       "20433"
      ]
     },
     "execution_count": 2,
     "metadata": {},
     "output_type": "execute_result"
    }
   ],
   "source": [
    "df = df.dropna()\n",
    "df = shuffle(df)\n",
    "len(df)"
   ]
  },
  {
   "cell_type": "code",
   "execution_count": 3,
   "metadata": {},
   "outputs": [],
   "source": [
    "training = df.iloc[:12259, :]\n",
    "validation = df.iloc[12259:16346, :]\n",
    "#testing = df.iloc[16346:, :]"
   ]
  },
  {
   "cell_type": "markdown",
   "metadata": {},
   "source": [
    "Get your X and y variables. We will use all of the predictors for X and scale them to zero mean unit variance."
   ]
  },
  {
   "cell_type": "code",
   "execution_count": 4,
   "metadata": {},
   "outputs": [
    {
     "data": {
      "text/plain": [
       "((12259, 8), (12259, 1))"
      ]
     },
     "execution_count": 4,
     "metadata": {},
     "output_type": "execute_result"
    }
   ],
   "source": [
    "y = training[\"median_house_value\"].values.reshape(-1, 1)\n",
    "X = training[['longitude', 'latitude', 'housing_median_age', 'total_rooms',\n",
    "       'total_bedrooms', 'population', 'households', 'median_income']].values\n",
    "X.shape, y.shape "
   ]
  },
  {
   "cell_type": "code",
   "execution_count": 5,
   "metadata": {},
   "outputs": [],
   "source": [
    "from sklearn.preprocessing import StandardScaler\n",
    "\n",
    "scaler_X = StandardScaler()\n",
    "scaler_X.fit(X)\n",
    "X_scaled = scaler_X.transform(X)\n",
    "\n",
    "scaler_y = StandardScaler()\n",
    "scaler_y.fit(y)\n",
    "y_scaled = scaler_y.transform(y)"
   ]
  },
  {
   "cell_type": "markdown",
   "metadata": {},
   "source": [
    "Create torch tensors ready for the neural network."
   ]
  },
  {
   "cell_type": "code",
   "execution_count": 6,
   "metadata": {},
   "outputs": [],
   "source": [
    "X = torch.tensor(X_scaled, dtype=torch.float32)\n",
    "y = torch.tensor(y_scaled, dtype=torch.float32)"
   ]
  },
  {
   "cell_type": "markdown",
   "metadata": {},
   "source": [
    "## Build a neural network"
   ]
  },
  {
   "cell_type": "markdown",
   "metadata": {},
   "source": [
    "Create a simple neural network. It can include as many or as few layers as you like. We will start simple with a 3-layer dense neural network, where we have an input layer, and 2 hidden layers with 16 nodes. For the input layer, we need to tell pytorch the number of input features (9). Then we can choose the number of hidden nodes. "
   ]
  },
  {
   "cell_type": "code",
   "execution_count": 7,
   "metadata": {},
   "outputs": [],
   "source": [
    "class SimpleNet(torch.nn.Module):\n",
    "    def __init__(self, n_features=8, n_targets=1):\n",
    "        super().__init__()\n",
    "        self.n_features = n_features\n",
    "        self.n_targets = n_targets\n",
    "        \n",
    "        self.layer_input = torch.nn.Linear(self.n_features, 16)         # Input layer: n_features -> 16\n",
    "        self.layer_hidden1 = torch.nn.Linear(16, 16)                    # Hidden layer 1: 16 -> 16\n",
    "        self.layer_hidden2 = torch.nn.Linear(16, self.n_targets)        # Hidden layer 2: 16 -> n_targets\n",
    "\n",
    "        self.activation_function = torch.nn.ReLU()\n",
    "        \n",
    "    def forward(self, X):\n",
    "        # Input layer\n",
    "        output = self.layer_input(X)\n",
    "        output = self.activation_function(output)\n",
    "        \n",
    "        # Hidden layer 1\n",
    "        output = self.layer_hidden1(output)\n",
    "        output = self.activation_function(output)\n",
    "\n",
    "        # Hidden layer 2\n",
    "        output = self.layer_hidden2(output)\n",
    "        # Notice we don't use the activation function here - why not? when would we use it?\n",
    "        \n",
    "        return output"
   ]
  },
  {
   "cell_type": "markdown",
   "metadata": {},
   "source": [
    "## Check our network on one batch\n",
    "Let's test our neural network on a small batch of data, before we start our training loop."
   ]
  },
  {
   "cell_type": "code",
   "execution_count": 8,
   "metadata": {},
   "outputs": [
    {
     "name": "stdout",
     "output_type": "stream",
     "text": [
      "torch.Size([64, 1])\n"
     ]
    }
   ],
   "source": [
    "# Create an instance of SimpleNet \n",
    "my_network = SimpleNet(n_features=8, n_targets=1)\n",
    "\n",
    "# Get the first batch\n",
    "X_batch = X[0:64]\n",
    "y_batch = y[0:64]\n",
    "\n",
    "# Test if we can call my_network without any errors\n",
    "pred_batch = my_network(X_batch)\n",
    "\n",
    "# Check the output is the correct size\n",
    "print(pred_batch.shape)\n",
    "assert(pred_batch.shape == y_batch.shape)"
   ]
  },
  {
   "cell_type": "markdown",
   "metadata": {},
   "source": [
    "## Set up loss function and optimisation algorithms\n",
    "\n",
    "Decide on a suitable loss function. \n",
    "\n",
    "We will use Mean Squared Error (MSE). It is always good to check you can properly call this on your first batch of data."
   ]
  },
  {
   "cell_type": "code",
   "execution_count": 9,
   "metadata": {},
   "outputs": [
    {
     "data": {
      "text/plain": [
       "tensor(1.0370, grad_fn=<MseLossBackward0>)"
      ]
     },
     "execution_count": 9,
     "metadata": {},
     "output_type": "execute_result"
    }
   ],
   "source": [
    "loss_function = torch.nn.MSELoss()\n",
    "loss_function(pred_batch, y_batch)"
   ]
  },
  {
   "cell_type": "markdown",
   "metadata": {},
   "source": [
    "Set up the optimiser and pass our network parameters to it."
   ]
  },
  {
   "cell_type": "code",
   "execution_count": 10,
   "metadata": {},
   "outputs": [],
   "source": [
    "optimiser = torch.optim.SGD(params = my_network.parameters(), lr=0.1)"
   ]
  },
  {
   "cell_type": "markdown",
   "metadata": {},
   "source": [
    "## Training loop\n",
    "We are ready to start our training loop. We could manually iterate through the data using indices, e.g., `X[0:64, :], y[0:64, :], ...`. But pytorch simplifies this for us with some useful functions, including mini-batching and shuffling - this will become essential when we move to large datasets. This is done in two steps, both of which are highly customisable. \n",
    "First, we create a `Dataset` which contains all of our data (you can also include any relevant pre-processing functions inside the Dataset). For regression, we provide our inputs and outputs. \n",
    "Then, we use a `DataLoader` that allows us to iterate through minibatches of data."
   ]
  },
  {
   "cell_type": "code",
   "execution_count": 11,
   "metadata": {},
   "outputs": [],
   "source": [
    "dataset = torch.utils.data.TensorDataset(X, y)\n",
    "dataloader = torch.utils.data.DataLoader(dataset, \n",
    "                                         shuffle=True,\n",
    "                                         batch_size=64)"
   ]
  },
  {
   "cell_type": "code",
   "execution_count": 12,
   "metadata": {},
   "outputs": [
    {
     "data": {
      "text/plain": [
       "(torch.Size([64, 8]), torch.Size([64, 1]))"
      ]
     },
     "execution_count": 12,
     "metadata": {},
     "output_type": "execute_result"
    }
   ],
   "source": [
    "# Check we can iterate through the dataloader\n",
    "X_batch, y_batch = next(iter(dataloader))\n",
    "X_batch.shape, y_batch.shape"
   ]
  },
  {
   "cell_type": "code",
   "execution_count": 13,
   "metadata": {},
   "outputs": [],
   "source": [
    "losses = []\n",
    "\n",
    "for X_batch, y_batch in dataloader:\n",
    "    optimiser.zero_grad()\n",
    "    pred_batch = my_network(X_batch)\n",
    "    loss = loss_function(pred_batch, y_batch)\n",
    "    loss.backward()\n",
    "\n",
    "    # Update optimiser\n",
    "    optimiser.step()\n",
    "\n",
    "    # Add MSE losses to our list for plotting\n",
    "    losses.append(loss.item())\n",
    "\n"
   ]
  },
  {
   "cell_type": "code",
   "execution_count": 14,
   "metadata": {},
   "outputs": [
    {
     "data": {
      "text/plain": [
       "[<matplotlib.lines.Line2D at 0x161733f10>]"
      ]
     },
     "execution_count": 14,
     "metadata": {},
     "output_type": "execute_result"
    },
    {
     "data": {
      "image/png": "[encoded data removed]",
      "text/plain": [
       "<Figure size 640x480 with 1 Axes>"
      ]
     },
     "metadata": {},
     "output_type": "display_data"
    }
   ],
   "source": [
    "plt.plot(losses)\n",
    "plt.xlabel(\"Iteration\")\n",
    "plt.ylabel(\"Losses\")"
   ]
  },
  {
   "cell_type": "markdown",
   "metadata": {},
   "source": [
    "## Check validation dataset\n",
    "Predict using the validation dataset and compare to the true validation dataset. Check our loss function (RMSE).\n"
   ]
  },
  {
   "cell_type": "code",
   "execution_count": 15,
   "metadata": {},
   "outputs": [
    {
     "name": "stdout",
     "output_type": "stream",
     "text": [
      "(4087, 1) (4087, 8)\n"
     ]
    }
   ],
   "source": [
    "y_validation = validation[\"median_house_value\"].values.reshape(-1, 1)\n",
    "X_validation = validation[['longitude', 'latitude', 'housing_median_age', 'total_rooms',\n",
    "       'total_bedrooms', 'population', 'households', 'median_income']].values\n",
    "print(y_validation.shape, X_validation.shape)\n",
    "X_validation_scaled = scaler_X.transform(X_validation)\n",
    "y_validation_scaled = scaler_y.transform(y_validation)\n",
    "\n",
    "X_validation = torch.tensor(X_validation_scaled, dtype=torch.float32)\n",
    "y_validation = torch.tensor(y_validation_scaled, dtype=torch.float32)\n",
    "\n",
    "dataset_validation = torch.utils.data.TensorDataset(X_validation, y_validation)\n",
    "dataloader_validation = torch.utils.data.DataLoader(dataset_validation, \n",
    "                                         shuffle=True,\n",
    "                                         batch_size=64)"
   ]
  },
  {
   "cell_type": "code",
   "execution_count": 16,
   "metadata": {},
   "outputs": [
    {
     "data": {
      "text/plain": [
       "tensor(0.2923, grad_fn=<MseLossBackward0>)"
      ]
     },
     "execution_count": 16,
     "metadata": {},
     "output_type": "execute_result"
    }
   ],
   "source": [
    "pred_validation = my_network(X_validation)\n",
    "loss = loss_function(pred_validation, y_validation)\n",
    "loss"
   ]
  },
  {
   "cell_type": "code",
   "execution_count": 36,
   "metadata": {},
   "outputs": [
    {
     "data": {
      "text/plain": [
       "Text(0, 0.5, 'Predicted')"
      ]
     },
     "execution_count": 36,
     "metadata": {},
     "output_type": "execute_result"
    },
    {
     "data": {
      "image/png": "[encoded data removed]",
      "text/plain": [
       "<Figure size 640x480 with 1 Axes>"
      ]
     },
     "metadata": {},
     "output_type": "display_data"
    }
   ],
   "source": [
    "plt.scatter(y_validation, pred_validation.detach())\n",
    "plt.plot([-1.5, 2.5], [-1.5, 2.5], color=\"black\", linestyle=\"dashed\")\n",
    "plt.xlabel(\"Truth\")\n",
    "plt.ylabel(\"Predicted\")"
   ]
  },
  {
   "cell_type": "markdown",
   "metadata": {},
   "source": [
    "How does it compare to your linear regression models on Tuesday? \n",
    "\n"
   ]
  },
  {
   "cell_type": "code",
   "execution_count": null,
   "metadata": {},
   "outputs": [],
   "source": []
  },
  {
   "cell_type": "markdown",
   "metadata": {},
   "source": [
    "## Train over multiple epochs\n",
    "\n",
    "Now you have gone through one full iteration of the data, train over multiple epochs and make sure you go through the validation dataset each epoch. Keep track of the training and validation losses averaged over each epoch separately and plot these."
   ]
  },
  {
   "cell_type": "code",
   "execution_count": 18,
   "metadata": {},
   "outputs": [
    {
     "data": {
      "text/plain": [
       "(192, 64)"
      ]
     },
     "execution_count": 18,
     "metadata": {},
     "output_type": "execute_result"
    }
   ],
   "source": [
    "len(dataloader), len(dataloader_validation)"
   ]
  },
  {
   "cell_type": "code",
   "execution_count": 19,
   "metadata": {},
   "outputs": [
    {
     "name": "stdout",
     "output_type": "stream",
     "text": [
      "After epoch 0: Training loss=0.31, validation loss=0.28\n",
      "After epoch 10: Training loss=0.25, validation loss=0.29\n",
      "After epoch 20: Training loss=0.23, validation loss=0.24\n",
      "After epoch 30: Training loss=0.23, validation loss=0.22\n",
      "After epoch 40: Training loss=0.22, validation loss=0.21\n",
      "After epoch 50: Training loss=0.22, validation loss=0.23\n",
      "After epoch 60: Training loss=0.22, validation loss=0.22\n",
      "After epoch 70: Training loss=0.21, validation loss=0.22\n",
      "After epoch 80: Training loss=0.21, validation loss=0.21\n",
      "After epoch 90: Training loss=0.21, validation loss=0.22\n",
      "At end of training: Training loss=0.21, validation loss=0.21\n"
     ]
    }
   ],
   "source": [
    "training_losses = []\n",
    "validation_losses = []\n",
    "num_epochs = 100\n",
    "\n",
    "\n",
    "for epoch in range(num_epochs):\n",
    "    my_network.train()\n",
    "    training_loss = 0\n",
    "    for X_batch, y_batch in dataloader:\n",
    "        optimiser.zero_grad()\n",
    "        pred_batch = my_network(X_batch)\n",
    "        loss = loss_function(pred_batch, y_batch)\n",
    "        loss.backward()\n",
    "\n",
    "        # Update optimiser\n",
    "        optimiser.step()\n",
    "        \n",
    "        # Add loss to training_loss\n",
    "        training_loss += loss.item()\n",
    "        \n",
    "    # Add MSE losses to our list for plotting\n",
    "    training_loss = training_loss / len(dataloader)\n",
    "    training_losses.append(training_loss)\n",
    "\n",
    "    # validation\n",
    "    my_network.eval()\n",
    "    validation_loss = 0\n",
    "    for X_batch, y_batch in dataloader_validation:\n",
    "        optimiser.zero_grad()\n",
    "        pred_batch = my_network(X_batch)\n",
    "        loss = loss_function(pred_batch, y_batch)            \n",
    "        # Add loss to validation_loss\n",
    "        validation_loss += loss.item()\n",
    "        \n",
    "    \n",
    "    # Add MSE losses to our list for plotting\n",
    "    validation_loss = validation_loss / len(dataloader_validation)\n",
    "    validation_losses.append(validation_loss)\n",
    "    \n",
    "    # After every 10 epochs print mean losses\n",
    "    if epoch%10 ==0:\n",
    "        print(f\"After epoch {epoch}: Training loss={training_loss:.2f}, validation loss={validation_loss:.2f}\")\n",
    "              \n",
    "print(f\"At end of training: Training loss={training_loss:.2f}, validation loss={validation_loss:.2f}\")\n",
    "              "
   ]
  },
  {
   "cell_type": "code",
   "execution_count": 20,
   "metadata": {},
   "outputs": [
    {
     "name": "stdout",
     "output_type": "stream",
     "text": [
      "0.21168979490175843\n"
     ]
    }
   ],
   "source": [
    "print(validation_loss)"
   ]
  },
  {
   "cell_type": "code",
   "execution_count": 21,
   "metadata": {},
   "outputs": [
    {
     "data": {
      "image/png": "[encoded data removed]",
      "text/plain": [
       "<Figure size 640x480 with 1 Axes>"
      ]
     },
     "metadata": {},
     "output_type": "display_data"
    }
   ],
   "source": [
    "fig, ax = plt.subplots(1, 1)\n",
    "plt.plot(training_losses, label=\"training\")\n",
    "plt.plot(validation_losses,  label=\"validation\")\n",
    "plt.legend()\n",
    "ax.set_yscale('log')"
   ]
  },
  {
   "cell_type": "markdown",
   "metadata": {},
   "source": [
    "## How to avoid overfitting?\n",
    "Add more data\n",
    "Repeat with full dataset, over many epochs. This should improve generalisation.\n",
    "Keep an eye on your models as you train by plotting the training loss and the validation loss together.\n",
    "Add things into loss function to reduce overfitting."
   ]
  },
  {
   "cell_type": "markdown",
   "metadata": {},
   "source": [
    "You could play around with different versions of the network. For example, try:\n",
    "* More or fewer layers.\n",
    "* More of fewer hidden nodes.\n",
    "* Different choice of activation functions (...)\n",
    "* Different choice of loss functions ( ... )\n",
    "* Different choice of optimiser (...)\n",
    "\n",
    "Selecting these choices for your problem is an optimisation problem in itself. This is often called hyperparameter selection. There is no best approach - usually people would manually search through some different options until we have the best results. There are some advanced \"hyperparameter optimisation\" packages (e.g., ...) that search across the full space of possible options.\n"
   ]
  },
  {
   "cell_type": "code",
   "execution_count": null,
   "metadata": {},
   "outputs": [],
   "source": []
  },
  {
   "cell_type": "markdown",
   "metadata": {},
   "source": [
    "### More layers\n",
    "Add one layer with 32 hidden nodes and see if it you get a better performance on the validation dataset."
   ]
  },
  {
   "cell_type": "code",
   "execution_count": 22,
   "metadata": {},
   "outputs": [],
   "source": [
    "class SimpleNet2(torch.nn.Module):\n",
    "    def __init__(self, n_features=8, n_targets=1):\n",
    "        super().__init__()\n",
    "        self.n_features = n_features\n",
    "        self.n_targets = n_targets\n",
    "        \n",
    "        self.layer_input = torch.nn.Linear(self.n_features, 16)         # Input layer: n_features -> 16\n",
    "        self.layer_hidden1 = torch.nn.Linear(16, 32)                    # Hidden layer 1: 16 -> 16\n",
    "        self.layer_hidden2= torch.nn.Linear(32, 16)                     # Hidden layer 2: 16 -> 16\n",
    "        self.layer_hidden3 = torch.nn.Linear(16, self.n_targets)        # Hidden layer 3: 16 -> n_targets\n",
    "\n",
    "        self.activation_function = torch.nn.ReLU()\n",
    "        \n",
    "    def forward(self, X):\n",
    "        # Input layer\n",
    "        output = self.layer_input(X)\n",
    "        output = self.activation_function(output)\n",
    "        \n",
    "        # Hidden layer 1\n",
    "        output = self.layer_hidden1(output)\n",
    "        output = self.activation_function(output)\n",
    "\n",
    "        # Hidden layer 2\n",
    "        output = self.layer_hidden2(output)\n",
    "        output = self.activation_function(output)\n",
    "        \n",
    "        # Hidden layer 3\n",
    "        output = self.layer_hidden3(output)\n",
    "\n",
    "                \n",
    "        return output"
   ]
  },
  {
   "cell_type": "code",
   "execution_count": 23,
   "metadata": {},
   "outputs": [
    {
     "name": "stdout",
     "output_type": "stream",
     "text": [
      "torch.Size([64, 1])\n"
     ]
    }
   ],
   "source": [
    "# Create an instance of SimpleNet2\n",
    "my_network = SimpleNet2(n_features=8, n_targets=1)\n",
    "\n",
    "# Get the first batch\n",
    "X_batch = X[0:64]\n",
    "y_batch = y[0:64]\n",
    "\n",
    "# Test if we can call my_network without any errors\n",
    "pred_batch = my_network(X_batch)\n",
    "\n",
    "# Check the output is the correct size\n",
    "print(pred_batch.shape)\n",
    "assert(pred_batch.shape == y_batch.shape)"
   ]
  },
  {
   "cell_type": "code",
   "execution_count": 24,
   "metadata": {},
   "outputs": [],
   "source": [
    "# Set up loss function and optimiser\n",
    "loss_function = torch.nn.MSELoss()\n",
    "optimiser = torch.optim.SGD(params = my_network.parameters(), lr=0.1)"
   ]
  },
  {
   "cell_type": "code",
   "execution_count": 25,
   "metadata": {},
   "outputs": [
    {
     "name": "stdout",
     "output_type": "stream",
     "text": [
      "After epoch 0: Training loss=0.51, validation loss=0.31\n",
      "After epoch 10: Training loss=0.26, validation loss=0.29\n",
      "After epoch 20: Training loss=0.24, validation loss=0.25\n",
      "After epoch 30: Training loss=0.23, validation loss=0.22\n",
      "After epoch 40: Training loss=0.22, validation loss=0.24\n",
      "After epoch 50: Training loss=0.22, validation loss=0.27\n",
      "After epoch 60: Training loss=0.21, validation loss=0.23\n",
      "After epoch 70: Training loss=0.20, validation loss=0.21\n",
      "After epoch 80: Training loss=0.20, validation loss=0.21\n",
      "After epoch 90: Training loss=0.20, validation loss=0.21\n",
      "At end of training: Training loss=0.19, validation loss=0.22\n"
     ]
    }
   ],
   "source": [
    "training_losses = []\n",
    "validation_losses = []\n",
    "num_epochs = 100\n",
    "\n",
    "\n",
    "for epoch in range(num_epochs):\n",
    "    my_network.train()\n",
    "    training_loss = 0\n",
    "    for X_batch, y_batch in dataloader:\n",
    "        optimiser.zero_grad()\n",
    "        pred_batch = my_network(X_batch)\n",
    "        loss = loss_function(pred_batch, y_batch)\n",
    "        loss.backward()\n",
    "\n",
    "        # Update optimiser\n",
    "        optimiser.step()\n",
    "        \n",
    "        # Add loss to training_loss\n",
    "        training_loss += loss.item()\n",
    "        \n",
    "    # Add MSE losses to our list for plotting\n",
    "    training_loss = training_loss / len(dataloader)\n",
    "    training_losses.append(training_loss)\n",
    "\n",
    "    # validation\n",
    "    my_network.eval()\n",
    "    validation_loss = 0\n",
    "    for X_batch, y_batch in dataloader_validation:\n",
    "        optimiser.zero_grad()\n",
    "        pred_batch = my_network(X_batch)\n",
    "        loss = loss_function(pred_batch, y_batch)            \n",
    "        # Add loss to validation_loss\n",
    "        validation_loss += loss.item()\n",
    "        \n",
    "    \n",
    "    # Add MSE losses to our list for plotting\n",
    "    validation_loss = validation_loss / len(dataloader_validation)\n",
    "    validation_losses.append(validation_loss)\n",
    "    \n",
    "    # After every 10 epochs print mean losses\n",
    "    if epoch%10 ==0:\n",
    "        print(f\"After epoch {epoch}: Training loss={training_loss:.2f}, validation loss={validation_loss:.2f}\")\n",
    "        \n",
    "print(f\"At end of training: Training loss={training_loss:.2f}, validation loss={validation_loss:.2f}\")\n"
   ]
  },
  {
   "cell_type": "code",
   "execution_count": 26,
   "metadata": {},
   "outputs": [
    {
     "data": {
      "text/plain": [
       "0.2161790500395"
      ]
     },
     "execution_count": 26,
     "metadata": {},
     "output_type": "execute_result"
    }
   ],
   "source": [
    "validation_loss"
   ]
  },
  {
   "cell_type": "code",
   "execution_count": null,
   "metadata": {},
   "outputs": [],
   "source": []
  }
 ],
 "metadata": {
  "kernelspec": {
   "display_name": "Python 3 (ipykernel)",
   "language": "python",
   "name": "python3"
  },
  "language_info": {
   "codemirror_mode": {
    "name": "ipython",
    "version": 3
   },
   "file_extension": ".py",
   "mimetype": "text/x-python",
   "name": "python",
   "nbconvert_exporter": "python",
   "pygments_lexer": "ipython3",
   "version": "3.11.5"
  }
 },
 "nbformat": 4,
 "nbformat_minor": 2
}
